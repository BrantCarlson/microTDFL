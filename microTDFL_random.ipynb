{
 "metadata": {
  "name": "",
  "signature": "sha256:bb32c049c8708b81b15aafb6d34afa93408f72ea9bde7268fb72b3bc02d7e3fd"
 },
 "nbformat": 3,
 "nbformat_minor": 0,
 "worksheets": [
  {
   "cells": [
    {
     "cell_type": "code",
     "collapsed": false,
     "input": [
      "%pylab inline\n",
      "from microTDFL import *"
     ],
     "language": "python",
     "metadata": {},
     "outputs": [
      {
       "output_type": "stream",
       "stream": "stdout",
       "text": [
        "Populating the interactive namespace from numpy and matplotlib\n"
       ]
      }
     ],
     "prompt_number": 1
    },
    {
     "cell_type": "code",
     "collapsed": false,
     "input": [
      "n = 30 # number of charge segments (one greater than number of current segments)\n",
      "dx = 5\n",
      "dt = 35e-9\n",
      "a = 0.003\n",
      "R = 5 * dx # resistance between adjacent charges\n",
      "E_app = 100000\n",
      "navg = 501\n",
      "\n",
      "m = timeStepsNeeded(n, dx, dt)\n",
      "R2 = computeR2(n, dx, a, navg)\n",
      "R1L = computeR1L(n, dx, a, navg)\n",
      "R1T = computeR1T(n, dx, a, navg)\n",
      "#G = getTransitionMatrix(n, m, dx, dt, E_app, R, R2, R1L, R1T)\n",
      "G = getTwoStageMatrix(n, m, dx, dt, E_app, R, R2, R1L, R1T)"
     ],
     "language": "python",
     "metadata": {},
     "outputs": [],
     "prompt_number": 25
    },
    {
     "cell_type": "code",
     "collapsed": false,
     "input": [
      "steps = 200\n",
      "\n",
      "h = zeros((m * (n - 1) + n + 1, steps + m - 1))\n",
      "h[m*(n-1):-1,0] = random.random_sample(n)\n",
      "h[-1, 0] = 0\n",
      "for i in range(1, len(h[0])):\n",
      "    h[:, i] = G.dot(h[:, i-1])\n",
      "hist = h[(m-1)*(n-1):-1, m-1:]\n",
      "save(\"history.npy\", hist)"
     ],
     "language": "python",
     "metadata": {},
     "outputs": [],
     "prompt_number": 34
    }
   ],
   "metadata": {}
  }
 ]
}