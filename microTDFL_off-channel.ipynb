{
 "metadata": {
  "name": "",
  "signature": "sha256:deeb05e1632deb3f09d12b17590167393e47142632e2c903e08bf329320e37c2"
 },
 "nbformat": 3,
 "nbformat_minor": 0,
 "worksheets": [
  {
   "cells": [
    {
     "cell_type": "code",
     "collapsed": false,
     "input": [
      "%pylab inline\n",
      "from scipy import constants"
     ],
     "language": "python",
     "metadata": {},
     "outputs": [
      {
       "output_type": "stream",
       "stream": "stdout",
       "text": [
        "Populating the interactive namespace from numpy and matplotlib\n"
       ]
      }
     ],
     "prompt_number": 4
    },
    {
     "cell_type": "code",
     "collapsed": false,
     "input": [
      "def computeR2OC(n, dx, rho, z, theta, phi):\n",
      "    R2 = zeros((n))\n",
      "    for i in range(n):\n",
      "        z_q = 0.5 * (max((i - 0.5) * dx, 0) + min((i + 0.5) * dx, (n - 1) * dx))\n",
      "        r = array([rho, 0, z + z_q])\n",
      "        detector = array([sin(theta) * cos(phi), sin(theta) * sin(phi), cos(theta)])\n",
      "        R2[i] = detector.dot(r) / (4 * pi * constants.epsilon_0 * (r.dot(r) ** 1.5))\n",
      "    return R2\n",
      "\n",
      "def computeR1LOC(n, dx, rho, z, theta, phi):\n",
      "    R1L = zeros((n))\n",
      "    for i in range(n):\n",
      "        z_q = 0.5 * (max((i - 0.5) * dx, 0) + min((i + 0.5) * dx, (n - 1) * dx))\n",
      "        r = array([rho, 0, z + z_q])\n",
      "        detector = array([sin(theta) * cos(phi), sin(theta) * sin(phi), cos(theta)])\n",
      "        R1L[i] = detector.dot(r) / (4 * pi * constants.epsilon_0 * constants.c * r.dot(r))\n",
      "    return R1L\n",
      "\n",
      "def computeR1TOC(n, dx, rho, z, theta, phi):\n",
      "    R1T = zeros((n - 1))\n",
      "    for i in range(n - 1):\n",
      "        z_i = (i + 0.5) * dx\n",
      "        r = array([rho, 0, z + z_i])\n",
      "        detector = array([sin(theta) * cos(phi), sin(theta) * sin(phi), cos(theta)])\n",
      "        R1T[i] = detector.dot(array([0, 0, 1])) / (4 * pi * constants.epsilon_0 * (constants.c ** 2) * sqrt(r.dot(r)))\n",
      "    return R1T\n",
      "\n",
      "def EField(t, rho, z, n, dx, dt, R2, R1L, R1T, hist):\n",
      "    E = 0\n",
      "    for i in range(n):\n",
      "        z_q = 0.5 * (max((i - 0.5) * dx, 0) + min((i + 0.5) * dx, (n - 1) * dx))\n",
      "        step = (t - sqrt(rho ** 2 + (z + z_q) ** 2) / constants.c) / dt\n",
      "        I1 = I2 = 0\n",
      "        if i > 0:\n",
      "            I1 += hist[i - 1, int(step)]\n",
      "            I2 += hist[i - 1, int(step) + 1]\n",
      "        if i < n - 1:\n",
      "            I1 -= hist[i, int(step)]\n",
      "            I2 -= hist[i, int(step) + 1]\n",
      "        I_interp = I1 + (I2 - I1) * (step - int(step))\n",
      "        \n",
      "        # R2 contribution\n",
      "        E += R2[i] * (hist[n - 1 + i, int(step)] + 0.5 * (I1 + I_interp) * (step - int(step)) * dt)\n",
      "        # R1L contribution\n",
      "        E += R1L[i] * I_interp\n",
      "    \n",
      "    for i in range(n - 1):\n",
      "        # R1T contribution\n",
      "        z_i = (i + 0.5) * dx\n",
      "        step = t - sqrt(rho ** 2 + (z + z_i) ** 2) / constants.c / dt\n",
      "        I1 = hist[i, int(step)]\n",
      "        I2 = hist[i, int(step) + 1]\n",
      "        E -= R1T[i] * (I2 - I1) / dt\n",
      "    return E\n",
      "\n",
      "def EFieldHist(rho, z, n, dx, dt, R2, R1L, R1T, hist):\n",
      "    first = int(ceil(sqrt(rho ** 2 + (z + (n - 1.25) * dx) ** 2) / constants.c / dt))\n",
      "    x = arange(first, len(hist[0]))\n",
      "    y = arange(first, len(hist[0]))\n",
      "    for i in range(len(y)):\n",
      "        y[i] = EField(x[i] * dt, rho, z, n, dx, dt, R2, R1L, R1T, hist)\n",
      "    return x, y"
     ],
     "language": "python",
     "metadata": {},
     "outputs": [],
     "prompt_number": 77
    },
    {
     "cell_type": "code",
     "collapsed": false,
     "input": [
      "n = 40 # number of charge segments (one greater than number of current segments)\n",
      "dx = 5\n",
      "dt = 35e-9\n",
      "rho = 300\n",
      "z = 500\n",
      "theta = 0\n",
      "phi = 0\n",
      "\n",
      "R2 = computeR2OC(n, dx, rho, z, theta, phi)\n",
      "R1L = computeR1LOC(n, dx, rho, z, theta, phi)\n",
      "R1T = computeR1TOC(n, dx, rho, z, theta, phi)\n",
      "h = load(\"history.npy\")\n",
      "hist = h[-2*n:-1, (len(h)-n-1)/(n-1)-1:]"
     ],
     "language": "python",
     "metadata": {},
     "outputs": [],
     "prompt_number": 98
    },
    {
     "cell_type": "code",
     "collapsed": false,
     "input": [
      "x, y = EFieldHist(rho, 1000, n, dx, dt, R2, R1L, R1T, hist)\n",
      "plot(x, y)\n",
      "show()"
     ],
     "language": "python",
     "metadata": {},
     "outputs": [
      {
       "metadata": {},
       "output_type": "display_data",
       "png": "[encoded data removed]",
       "text": [
        "<matplotlib.figure.Figure at 0xba5f400>"
       ]
      }
     ],
     "prompt_number": 109
    }
   ],
   "metadata": {}
  }
 ]
}