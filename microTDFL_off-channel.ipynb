{
 "metadata": {
  "name": "",
  "signature": "sha256:55ab5f88124f269dccfcc4f6f3263063a3f27bcf7470cbfc88e6d5b8818b99c8"
 },
 "nbformat": 3,
 "nbformat_minor": 0,
 "worksheets": [
  {
   "cells": [
    {
     "cell_type": "code",
     "collapsed": false,
     "input": [
      "%pylab inline\n",
      "from scipy import constants"
     ],
     "language": "python",
     "metadata": {},
     "outputs": [
      {
       "output_type": "stream",
       "stream": "stdout",
       "text": [
        "Populating the interactive namespace from numpy and matplotlib\n"
       ]
      }
     ],
     "prompt_number": 4
    },
    {
     "cell_type": "code",
     "collapsed": false,
     "input": [
      "def computeR2OC(n, dx, rho, z, theta, phi):\n",
      "    R2 = zeros((n, 1))\n",
      "    for i in range(n):\n",
      "        z_q = 0.5 * (max((i - 0.5) * dx, 0) + min((i + 0.5) * dx, (n - 1) * dx))\n",
      "        r = array([rho, 0, z + z_q])\n",
      "        detector = array([sin(theta) * cos(phi), sin(theta) * sin(phi), cos(theta)])\n",
      "        R2[i, 0] = detector.dot(r) / (4 * pi * constants.epsilon_0 * (r.dot(r) ** 1.5))\n",
      "    return R2\n",
      "\n",
      "def computeR1LOC(n, dx, rho, z, theta, phi):\n",
      "    R1L = zeros((n, 1))\n",
      "    for i in range(n):\n",
      "        z_q = 0.5 * (max((i - 0.5) * dx, 0) + min((i + 0.5) * dx, (n - 1) * dx))\n",
      "        r = array([rho, 0, z + z_q])\n",
      "        detector = array([sin(theta) * cos(phi), sin(theta) * sin(phi), cos(theta)])\n",
      "        R1L[i, 0] = detector.dot(r) / (4 * pi * constants.epsilon_0 * constants.c * r.dot(r))\n",
      "    return R1L\n",
      "\n",
      "def computeR1TOC(n, dx, rho, z, theta, phi):\n",
      "    R1T = zeros((n - 1, 1))\n",
      "    for i in range(n):\n",
      "        z_i = (i + 0.5) * dx\n",
      "        r = array([rho, 0, z + z_i])\n",
      "        detector = array([sin(theta) * cos(phi), sin(theta) * sin(phi), cos(theta)])\n",
      "        R1T[i, 0] = detector.dot(array([0, 0, 1])) / (4 * pi * constants.epsilon_0 * (constants.c ** 2) * sqrt(r.dot(r)))\n",
      "    return R1T"
     ],
     "language": "python",
     "metadata": {},
     "outputs": [],
     "prompt_number": 13
    },
    {
     "cell_type": "code",
     "collapsed": false,
     "input": [
      "n = 40 # number of charge segments (one greater than number of current segments)\n",
      "dx = 5\n",
      "dt = 35e-9\n",
      "#a = 0.003\n",
      "#R = 0 * dx # resistance between adjacent charges\n",
      "#E_app = 100000\n",
      "#navg = 501\n",
      "\n",
      "steps = 100\n",
      "hist = zeros((2 * n - 1, steps))"
     ],
     "language": "python",
     "metadata": {},
     "outputs": [],
     "prompt_number": 6
    }
   ],
   "metadata": {}
  }
 ]
}