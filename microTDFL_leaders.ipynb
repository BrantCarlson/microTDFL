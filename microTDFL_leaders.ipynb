{
 "metadata": {
  "name": "",
  "signature": "sha256:a382ee775dfeb040918d21243181703ee2866e0e74eb8a84aae9957cde17c4db"
 },
 "nbformat": 3,
 "nbformat_minor": 0,
 "worksheets": [
  {
   "cells": [
    {
     "cell_type": "code",
     "collapsed": false,
     "input": [
      "%pylab inline\n",
      "from microTDFL import *"
     ],
     "language": "python",
     "metadata": {},
     "outputs": [
      {
       "output_type": "stream",
       "stream": "stdout",
       "text": [
        "Populating the interactive namespace from numpy and matplotlib\n"
       ]
      }
     ],
     "prompt_number": 1
    },
    {
     "cell_type": "code",
     "collapsed": false,
     "input": [
      "n = 30 # number of charge segments (one greater than number of current segments)\n",
      "dx = 5\n",
      "dt = 35e-9\n",
      "a = 0.003\n",
      "R = 5 * dx # resistance between adjacent charges\n",
      "E_app = 100000\n",
      "navg = 501\n",
      "\n",
      "m = timeStepsNeeded(n, dx, dt)\n",
      "R2 = computeR2(n, dx, a, navg)\n",
      "R1L = computeR1L(n, dx, a, navg)\n",
      "R1T = computeR1T(n, dx, a, navg)\n",
      "#G = getTransitionMatrix(n, m, dx, dt, E_app, R, R2, R1L, R1T)\n",
      "G = getTwoStageMatrix(n, m, dx, dt, E_app, R, R2, R1L, R1T)"
     ],
     "language": "python",
     "metadata": {},
     "outputs": [],
     "prompt_number": 24
    },
    {
     "cell_type": "code",
     "collapsed": false,
     "input": [
      "new_segments = n-1 # new current segments\n",
      "steps1 = 500\n",
      "steps2 = 500\n",
      "\n",
      "G0 = copy(G)\n",
      "G0[n-1-new_segments:n-1,:] = 0.0\n",
      "h = zeros((m * (n - 1) + n + 1, steps1 + steps2 + m - 1))\n",
      "h[-1, 0] = 1\n",
      "for i in range(1, len(h[0]) - steps2):\n",
      "    h[:, i] = G0.dot(h[:, i-1])\n",
      "for i in range(len(h[0]) - steps2, len(h[0])):\n",
      "    h[:, i] = G.dot(h[:, i-1])\n",
      "hist = h[(m-1)*(n-1):-1, m-1:]\n",
      "save(\"history.npy\", hist)"
     ],
     "language": "python",
     "metadata": {},
     "outputs": [],
     "prompt_number": 25
    }
   ],
   "metadata": {}
  }
 ]
}