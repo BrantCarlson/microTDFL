{
 "metadata": {
  "name": "",
  "signature": "sha256:39f76baf366cb03fc525e79ee2fdfcad5d7f118f1def013e7a1baa15a173a2d4"
 },
 "nbformat": 3,
 "nbformat_minor": 0,
 "worksheets": [
  {
   "cells": [
    {
     "cell_type": "code",
     "collapsed": false,
     "input": [
      "%pylab inline"
     ],
     "language": "python",
     "metadata": {},
     "outputs": [
      {
       "output_type": "stream",
       "stream": "stdout",
       "text": [
        "Populating the interactive namespace from numpy and matplotlib\n"
       ]
      }
     ],
     "prompt_number": 7
    },
    {
     "cell_type": "code",
     "collapsed": false,
     "input": [
      "N = 1000\n",
      "Q = 1\n",
      "def coefficients(x, y):\n",
      "    return 1/(identity(N) + abs(x - y) * (x - y)) - identity(N)\n",
      "a = fromfunction(coefficients, (N, N))\n",
      "b = zeros((N, 1))\n",
      "b[0, 0] = 1\n",
      "b[-1, 0] = -1\n",
      "q = linalg.solve(a, b)\n",
      "q *= Q / sum(q)\n",
      "\n",
      "figure()\n",
      "plot(q, 'r')\n",
      "xlabel('Position')\n",
      "ylabel('Charge')\n",
      "show()"
     ],
     "language": "python",
     "metadata": {},
     "outputs": [
      {
       "metadata": {},
       "output_type": "display_data",
       "png": "[encoded data removed]",
       "text": [
        "<matplotlib.figure.Figure at 0xa40ac88>"
       ]
      }
     ],
     "prompt_number": 11
    },
    {
     "cell_type": "code",
     "collapsed": false,
     "input": [
      "def field(x):\n",
      "    E = 0\n",
      "    for i in range(N):\n",
      "        if x - i != 0:\n",
      "            E += sign(x - i) * q[i, 0] / (x - i)**2\n",
      "    return E"
     ],
     "language": "python",
     "metadata": {},
     "outputs": [],
     "prompt_number": 5
    }
   ],
   "metadata": {}
  }
 ]
}