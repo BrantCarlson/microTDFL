{
 "metadata": {
  "name": "",
  "signature": "sha256:420207ac600a5ba1a192d664dde0f017015bfc04d703e332b13f8b8a07620d92"
 },
 "nbformat": 3,
 "nbformat_minor": 0,
 "worksheets": [
  {
   "cells": [
    {
     "cell_type": "code",
     "collapsed": false,
     "input": [
      "%pylab inline\n",
      "import numpy\n",
      "import matplotlib.pyplot as plt"
     ],
     "language": "python",
     "metadata": {},
     "outputs": [
      {
       "output_type": "stream",
       "stream": "stdout",
       "text": [
        "Populating the interactive namespace from numpy and matplotlib\n"
       ]
      }
     ],
     "prompt_number": 2
    },
    {
     "cell_type": "code",
     "collapsed": false,
     "input": [
      "N = 1000\n",
      "Q = 1\n",
      "def coefficients(x, y):\n",
      "    return 1/(identity(N) + abs(x - y) * (x - y)) - identity(N)\n",
      "a = fromfunction(coefficients, (N, N))\n",
      "# you can also just divide by zero (ignore the runtime warning), then\n",
      "# set the diagonal elements to zero afterward.  There's a function for that...\n",
      "# fill_diagonal(a,0)\n",
      "\n",
      "b = zeros((N, 1))\n",
      "# if you only have one right-hand-side, it can just be an array\n",
      "# meaning you can also just say b = zeros(N), then b[0] = 1 and b[-1] = -1\n",
      "b[0, 0] = 1\n",
      "b[-1, 0] = -1\n",
      "q = linalg.solve(a, b)\n",
      "q *= Q / sum(q)\n",
      "\n",
      "figure()\n",
      "#plot(arange(N).reshape((N, 1)), q, 'r')\n",
      "plot(q, 'r')  # the x coordinate will be assumed to run from 0 to the number of y coordinates if unspecified\n",
      "\n",
      "xlabel('Position')\n",
      "ylabel('Charge')\n",
      "show()"
     ],
     "language": "python",
     "metadata": {},
     "outputs": [
      {
       "metadata": {},
       "output_type": "display_data",
       "png": "[encoded data removed]",
       "text": [
        "<matplotlib.figure.Figure at 0x7f4b3030b650>"
       ]
      }
     ],
     "prompt_number": 3
    },
    {
     "cell_type": "code",
     "collapsed": false,
     "input": [
      "def field(x):\n",
      "    E = 0\n",
      "    for i in range(N):\n",
      "        if x - i != 0:\n",
      "            E += sign(x - i) * q[i, 0] / (x - i)**2\n",
      "    return E"
     ],
     "language": "python",
     "metadata": {},
     "outputs": [],
     "prompt_number": 4
    }
   ],
   "metadata": {}
  }
 ]
}