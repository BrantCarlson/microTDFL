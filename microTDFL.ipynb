{
 "metadata": {
  "name": "",
  "signature": "sha256:cc738201f7f4b5e5362f1b2a4e42602c5094a342ae59e44ac200ae2da28a1f65"
 },
 "nbformat": 3,
 "nbformat_minor": 0,
 "worksheets": [
  {
   "cells": [
    {
     "cell_type": "code",
     "collapsed": false,
     "input": [
      "%pylab inline\n",
      "from scipy import constants, integrate"
     ],
     "language": "python",
     "metadata": {},
     "outputs": [
      {
       "output_type": "stream",
       "stream": "stdout",
       "text": [
        "Populating the interactive namespace from numpy and matplotlib\n"
       ]
      }
     ],
     "prompt_number": 1
    },
    {
     "cell_type": "code",
     "collapsed": false,
     "input": [
      "def timeStepsNeeded(n, dx, dt):\n",
      "    return int((n - 1) * dx / constants.c / dt) + 2 # previous timesteps plus current one\n",
      "\n",
      "def computeR2(n, dx, a, navg):\n",
      "    R2 = zeros((n - 1, n))\n",
      "    for i in range(n):\n",
      "        c = max((i - 0.5) * dx, 0)\n",
      "        d = min((i + 0.5) * dx, (n - 1) * dx)\n",
      "        for j in range(n - 1):\n",
      "            for k in range(navg):\n",
      "                x = (j + k / (navg - 1.0)) * dx\n",
      "                if x < c: R2[j, i] += (arctan((c - x) / a) - arctan((d - x) / a))\n",
      "                elif x > d: R2[j, i] += (arctan((d - x) / a) - arctan((c - x) / a))\n",
      "                else: R2[j, i] += (-arctan((c - x) / a) - arctan((d - x) / a))\n",
      "            R2[j, i] /= (4 * pi * constants.epsilon_0 * dx * a * navg)\n",
      "            if i == 0 or i == n - 1: R2[j, i] *= 2\n",
      "    return R2\n",
      "\n",
      "def computeR1L(n, dx, a, navg):\n",
      "    R1L = zeros((n - 1, n))\n",
      "    for i in range(n):\n",
      "        c = max((i - 0.5) * dx, 0)\n",
      "        d = min((i + 0.5) * dx, (n - 1) * dx)\n",
      "        for j in range(n - 1):\n",
      "            for k in range(navg):\n",
      "                x = (j + k / (navg - 1.0)) * dx\n",
      "                F = lambda x: log(sqrt(x**2 + a**2) + x)\n",
      "                if x < c: R1L[j, i] += (F(c - x) - F(d - x))\n",
      "                elif x > d: R1L[j, i] += (F(d - x) - F(c - x))\n",
      "                else: R1L[j, i] += (2 * F(0) - F(c - x) - F(d - x))\n",
      "            R1L[j, i] /= (4 * pi * constants.epsilon_0 * constants.c * dx * navg)\n",
      "            if i == 0 or i == n - 1: R1L[j, i] *= 2\n",
      "    return R1L\n",
      "\n",
      "def computeR1T(n, dx, a, navg):\n",
      "    R1T = zeros((n - 1, n - 1))\n",
      "    for i in range(n - 1):\n",
      "        c = i * dx\n",
      "        d = (i + 1) * dx\n",
      "        for j in range(n - 1):\n",
      "            for k in range(navg):\n",
      "                x = (j + k / (navg - 1.0)) * dx\n",
      "                F = lambda x: log(sqrt(x**2 + a**2) + x)\n",
      "                R1T[j, i] += (F(d - x) - F(c - x))\n",
      "            R1T[j, i] /= (4 * pi * constants.epsilon_0 * (constants.c ** 2) * navg)\n",
      "    return R1T\n",
      "\n",
      "def getMatrixM(n, dx, dt, R, R2, R1L, R1T):\n",
      "    M = zeros((n - 1, n - 1))\n",
      "    for j in range(n - 1):\n",
      "        ipos = (j + 0.5) * dx\n",
      "        for i in range(n):\n",
      "            qpos = min(max(0.25 * dx, i * dx), (n - 1.25) * dx)\n",
      "            stepsaway = abs((qpos - ipos)) / constants.c / dt\n",
      "            # R1L term\n",
      "            if stepsaway < 1:\n",
      "                if i > 0: M[j, i - 1] += R1L[j, i] * (1 - stepsaway)\n",
      "                if i < n - 1: M[j, i] -= R1L[j, i] * (1 - stepsaway)\n",
      "             \n",
      "            # R2 term\n",
      "            if stepsaway < 1:\n",
      "                if i > 0: M[j, i - 1] += 0.5 * ((1 - stepsaway) * dt) ** 2 / dt * R2[j, i]\n",
      "                if i < n - 1: M[j, i] -= 0.5 * ((1 - stepsaway) * dt) ** 2 / dt * R2[j, i]\n",
      "            \n",
      "        for i in range(n - 1):\n",
      "            # R1T term\n",
      "            i2pos = (i + 0.5) * dx\n",
      "            stepsaway = abs((ipos - i2pos)) / constants.c / dt\n",
      "            if stepsaway < 1: M[j, i] -= R1T[j, i] / dt\n",
      "    return M - R * identity(n - 1)\n",
      "\n",
      "def getMatrixE(n, m):\n",
      "    return concatenate((identity(n - 1), zeros(((m - 1) * (n - 1) + n + 1, n - 1))))\n",
      "\n",
      "def getMatrixS(n, m):\n",
      "    S = zeros((m * (n - 1) + n + 1, m * (n - 1) + n + 1))\n",
      "    S[n-1:m*(n-1), :(m-1)*(n-1)] = identity((m - 1) * (n - 1))\n",
      "    S[m*(n-1):, m*(n-1):] = identity(n + 1)\n",
      "    return S\n",
      "\n",
      "def getMatrixQ(n, m, dt):\n",
      "    Q = zeros((m * (n - 1) + n + 1, m * (n - 1) + n + 1))\n",
      "    Q[m*(n-1):m*(n-1)+n-1, (m-2)*(n-1):(m-1)*(n-1)] -= 0.5 * identity(n - 1)\n",
      "    Q[m*(n-1)+1:m*(n-1)+n, (m-2)*(n-1):(m-1)*(n-1)] += 0.5 * identity(n - 1)\n",
      "    Q[m*(n-1):m*(n-1)+n-1, (m-1)*(n-1):m*(n-1)] -= 0.5 * identity(n - 1)\n",
      "    Q[m*(n-1)+1:m*(n-1)+n, (m-1)*(n-1):m*(n-1)] += 0.5 * identity(n - 1)\n",
      "    return Q * dt\n",
      "\n",
      "def getMatrixA(n, m, dx, dt, E_app, R2, R1L, R1T):\n",
      "    A = zeros((n - 1, m * (n - 1) + n + 1))\n",
      "    for j in range(n - 1):\n",
      "        ipos = (j + 0.5) * dx\n",
      "        for i in range(n):\n",
      "            qpos = min(max(0.25 * dx, i * dx), (n - 1.25) * dx)\n",
      "            stepsaway = abs((qpos - ipos)) / constants.c / dt\n",
      "            # R1L term\n",
      "            if stepsaway >= 1:\n",
      "                if i > 0: A[j, (int(stepsaway) - 1) * (n - 1) + i - 1] += R1L[j, i] * (ceil(stepsaway) - stepsaway)\n",
      "                if i < n - 1: A[j, (int(stepsaway) - 1) * (n - 1) + i] -= R1L[j, i] * (ceil(stepsaway) - stepsaway)\n",
      "            if i > 0: A[j, int(stepsaway) * (n - 1) + i - 1] += R1L[j, i] * (stepsaway - floor(stepsaway))\n",
      "            if i < n - 1: A[j, int(stepsaway) * (n - 1) + i] -= R1L[j, i] * (stepsaway - floor(stepsaway))\n",
      "             \n",
      "            # R2 term\n",
      "            deltat = (ceil(stepsaway) - stepsaway) * dt\n",
      "            if stepsaway >= 1:\n",
      "                if i > 0: A[j, (ceil(stepsaway) - 2) * (n - 1) + i - 1] += 0.5 * deltat ** 2 / dt * R2[j, i]\n",
      "                if i < n - 1: A[j, (ceil(stepsaway) - 2) * (n - 1) + i] -= 0.5 * deltat ** 2 / dt * R2[j, i]\n",
      "            if i > 0: A[j, (ceil(stepsaway) - 1) * (n - 1) + i - 1] += 0.5 * (2 - deltat / dt) * deltat * R2[j, i]\n",
      "            if i < n - 1: A[j, (ceil(stepsaway) - 1) * (n - 1) + i] -= 0.5 * (2 - deltat / dt) * deltat * R2[j, i]\n",
      "            A[j, m * (n - 1) + i] += R2[j, i]\n",
      "            for s in range(int(ceil(stepsaway)) - 1, m - 1):\n",
      "                if i > 0:\n",
      "                    A[j, s * (n - 1) + i - 1] += 0.5 * dt * R2[j, i]\n",
      "                    A[j, (s + 1) * (n - 1) + i - 1] += 0.5 * dt * R2[j, i]\n",
      "                if i < n - 1:\n",
      "                    A[j, s * (n - 1) + i] -= 0.5 * dt * R2[j, i]\n",
      "                    A[j, (s + 1) * (n - 1) + i] -= 0.5 * dt * R2[j, i]\n",
      "            \n",
      "        for i in range(n - 1):\n",
      "            # R1T term\n",
      "            i2pos = (i + 0.5) * dx\n",
      "            stepsaway = abs((ipos - i2pos)) / constants.c / dt\n",
      "            if stepsaway >= 1: A[j, (int(stepsaway) - 1) * (n - 1) + i] -= R1T[j, i] / dt\n",
      "            A[j, int(stepsaway) * (n - 1) + i] += R1T[j, i] / dt\n",
      "    A[:, -1] += E_app\n",
      "    return -A\n",
      "\n",
      "def getTransitionMatrix(n, m, dx, dt, E_app, R, R2, R1L, R1T):\n",
      "    M = getMatrixM(n, dx, dt, R, R2, R1L, R1T)\n",
      "    A = getMatrixA(n, m, dx, dt, E_app, R2, R1L, R1T)\n",
      "    S = getMatrixS(n, m)\n",
      "    E = getMatrixE(n, m)\n",
      "    Q = getMatrixQ(n, m, dt)\n",
      "    return S + E.dot(linalg.inv(M)).dot(A) + Q"
     ],
     "language": "python",
     "metadata": {},
     "outputs": [],
     "prompt_number": 26
    },
    {
     "cell_type": "code",
     "collapsed": false,
     "input": [
      "n = 40 # number of charge segments (one greater than number of current segments)\n",
      "dx = 5\n",
      "dt = 35e-9\n",
      "a = 0.003\n",
      "R = 50 * dx # resistance between adjacent charges\n",
      "E_app = 100000\n",
      "navg = 101\n",
      "\n",
      "m = timeStepsNeeded(n, dx, dt)\n",
      "R2 = computeR2(n, dx, a, navg)\n",
      "R1L = computeR1L(n, dx, a, navg)\n",
      "R1T = computeR1T(n, dx, a, navg)\n",
      "G = getTransitionMatrix(n, m, dx, dt, E_app, R, R2, R1L, R1T)"
     ],
     "language": "python",
     "metadata": {},
     "outputs": [],
     "prompt_number": 46
    },
    {
     "cell_type": "code",
     "collapsed": false,
     "input": [
      "x = linalg.eig(G)\n",
      "\n",
      "steps = 100\n",
      "h = zeros((m*(n-1)+n+1, steps))\n",
      "h[:,0] = real(x[1][:,200]) * E_app\n",
      "for i in range(1, steps):\n",
      "    h[:,i] = G.dot(h[:,i-1])"
     ],
     "language": "python",
     "metadata": {},
     "outputs": [],
     "prompt_number": 47
    },
    {
     "cell_type": "code",
     "collapsed": false,
     "input": [
      "plot(real(x[1][m*(n-1):m*(n-1)+n,820]))"
     ],
     "language": "python",
     "metadata": {},
     "outputs": [
      {
       "metadata": {},
       "output_type": "pyout",
       "prompt_number": 50,
       "text": [
        "[<matplotlib.lines.Line2D at 0x18a6ecc0>]"
       ]
      },
      {
       "metadata": {},
       "output_type": "display_data",
       "png": "[encoded data removed]",
       "text": [
        "<matplotlib.figure.Figure at 0x188a44a8>"
       ]
      }
     ],
     "prompt_number": 50
    },
    {
     "cell_type": "code",
     "collapsed": false,
     "input": [
      "save(\"transitionMatrix.npy\", G)"
     ],
     "language": "python",
     "metadata": {},
     "outputs": [],
     "prompt_number": 49
    }
   ],
   "metadata": {}
  }
 ]
}