{
 "metadata": {
  "name": "",
  "signature": "sha256:e13c81929260e84914cc72477bd01862f6fe5ac88ed9b017d451bb243ca3d1c8"
 },
 "nbformat": 3,
 "nbformat_minor": 0,
 "worksheets": [
  {
   "cells": [
    {
     "cell_type": "code",
     "collapsed": false,
     "input": [
      "def computeR2(n, dx, a, navg):\n",
      "    R2 = zeros((n - 1, n))\n",
      "    for i in range(n):\n",
      "        c = max((i - 0.5) * dx, 0)\n",
      "        d = min((i + 0.5) * dx, (n - 1) * dx)\n",
      "        for j in range(n - 1):\n",
      "            for k in range(navg):\n",
      "                x = (j + k / (navg - 1.0)) * dx\n",
      "                if x < c: R2[j, i] += (arctan((c - x) / a) - arctan((d - x) / a))\n",
      "                elif x > d: R2[j, i] += (arctan((d - x) / a) - arctan((c - x) / a))\n",
      "                else: R2[j, i] += (-arctan((c - x) / a) - arctan((d - x) / a))\n",
      "            R2[j, i] /= (4 * pi * constants.epsilon_0 * dx * a * navg)\n",
      "            if i == 0 or i == n - 1: R2[j, i] *= 2\n",
      "    return R2\n",
      "\n",
      "def computeR1L(n, dx, a, navg):\n",
      "    R1L = zeros((n - 1, n))\n",
      "    for i in range(n):\n",
      "        c = max((i - 0.5) * dx, 0)\n",
      "        d = min((i + 0.5) * dx, (n - 1) * dx)\n",
      "        for j in range(n - 1):\n",
      "            for k in range(navg):\n",
      "                x = (j + k / (navg - 1.0)) * dx\n",
      "                F = lambda x: log(sqrt(x**2 + a**2) + x)\n",
      "                if x < c: R1L[j, i] += (F(c - x) - F(d - x))\n",
      "                elif x > d: R1L[j, i] += (F(d - x) - F(c - x))\n",
      "                else: R1L[j, i] += (2 * F(0) - F(c - x) - F(d - x))\n",
      "            R1L[j, i] /= (4 * pi * constants.epsilon_0 * constants.c * dx * navg)\n",
      "            if i == 0 or i == n - 1: R1L[j, i] *= 2\n",
      "    return R1L\n",
      "\n",
      "def computeR1T(n, dx, a, navg):\n",
      "    R1T = zeros((n - 1, n - 1))\n",
      "    for i in range(n - 1):\n",
      "        c = i * dx\n",
      "        d = (i + 1) * dx\n",
      "        for j in range(n - 1):\n",
      "            for k in range(navg):\n",
      "                x = (j + k / (navg - 1.0)) * dx\n",
      "                F = lambda x: log(sqrt(x**2 + a**2) + x)\n",
      "                R1T[j, i] += (F(d - x) - F(c - x))\n",
      "            R1T[j, i] /= (4 * pi * constants.epsilon_0 * (constants.c ** 2) * navg)\n",
      "    return R1T\n",
      "\n",
      "def timeStepsNeeded(n, dx, dt):\n",
      "    return int((n - 1) * dx / constants.c / dt) + 2 # previous timesteps plus current one"
     ],
     "language": "python",
     "metadata": {},
     "outputs": [],
     "prompt_number": 2
    }
   ],
   "metadata": {}
  }
 ]
}