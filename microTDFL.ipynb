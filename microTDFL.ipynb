{
 "metadata": {
  "name": "",
  "signature": "sha256:a915d6fea6ea242143d76ee070d791362b201a31ec7e8961ce90a2dbb95eeb82"
 },
 "nbformat": 3,
 "nbformat_minor": 0,
 "worksheets": [
  {
   "cells": [
    {
     "cell_type": "code",
     "collapsed": false,
     "input": [
      "%pylab inline\n",
      "from scipy import constants, integrate"
     ],
     "language": "python",
     "metadata": {},
     "outputs": [
      {
       "output_type": "stream",
       "stream": "stdout",
       "text": [
        "Populating the interactive namespace from numpy and matplotlib\n"
       ]
      }
     ],
     "prompt_number": 1
    },
    {
     "cell_type": "code",
     "collapsed": false,
     "input": [
      "def computeR2StraightLine(n, dx, a, navg):\n",
      "    R2 = zeros((n - 1, n))\n",
      "    for i in range(n):\n",
      "        c = max((i - 0.5) * dx, 0)\n",
      "        d = min((i + 0.5) * dx, (n - 1) * dx)\n",
      "        for j in range(n - 1):\n",
      "            for k in range(navg):\n",
      "                x = (j + k / (navg - 1.0)) * dx\n",
      "                if x < c: R2[j, i] += (arctan((c - x) / a) - arctan((d - x) / a))\n",
      "                elif x > d: R2[j, i] += (arctan((d - x) / a) - arctan((c - x) / a))\n",
      "                else: R2[j, i] += (-arctan((c - x) / a) - arctan((d - x) / a))\n",
      "            R2[j, i] /= (4 * pi * constants.epsilon_0 * dx * a * navg)\n",
      "            if i == 0 or i == n - 1: R2[j, i] *= 2\n",
      "    return R2\n",
      "\n",
      "def computeR1LStraightLine(n, dx, a, navg):\n",
      "    R1L = zeros((n - 1, n))\n",
      "    for i in range(n):\n",
      "        c = max((i - 0.5) * dx, 0)\n",
      "        d = min((i + 0.5) * dx, (n - 1) * dx)\n",
      "        for j in range(n - 1):\n",
      "            for k in range(navg):\n",
      "                x = (j + k / (navg - 1.0)) * dx\n",
      "                F = lambda x: log(sqrt(x**2 + a**2) + x)\n",
      "                if x < c: R1L[j, i] += (F(c - x) - F(d - x))\n",
      "                elif x > d: R1L[j, i] += (F(d - x) - F(c - x))\n",
      "                else: R1L[j, i] += (2 * F(0) - F(c - x) - F(d - x))\n",
      "            R1L[j, i] /= (4 * pi * constants.epsilon_0 * constants.c * dx * navg)\n",
      "            if i == 0 or i == n - 1: R1L[j, i] *= 2\n",
      "    return R1L\n",
      "\n",
      "def computeR1TStraightLine(n, dx, a, navg):\n",
      "    R1T = zeros((n - 1, n - 1))\n",
      "    for i in range(n - 1):\n",
      "        c = i * dx\n",
      "        d = (i + 1) * dx\n",
      "        for j in range(n - 1):\n",
      "            for k in range(navg):\n",
      "                x = (j + k / (navg - 1.0)) * dx\n",
      "                F = lambda x: log(sqrt(x**2 + a**2) + x)\n",
      "                R1T[j, i] += (F(d - x) - F(c - x))\n",
      "            R1T[j, i] /= (4 * pi * constants.epsilon_0 * (constants.c ** 2) * navg)\n",
      "    return R1T\n",
      "\n",
      "def transitionMatrix(n, dx, a, R, navg, qhist, ihist, E_app):\n",
      "    EF = zeros((n - 1, n))\n",
      "    R2 = computeR2StraightLine(n, dx, a, navg)\n",
      "    R1L = computeR1LStraightLine(n, dx, a, navg)\n",
      "    R1T = computeR1TStraightLine(n, dx, a, navg)\n",
      "    for j in range(n - 1):\n",
      "        ipos = (j + 0.5) * dx\n",
      "        for i in range(n):\n",
      "            qpos = min(max(0.25 * dx, i * dx), (n - 1.25) * dx)\n",
      "            stepsaway = abs((qpos - ipos)) / constants.c / dt\n",
      "            # R1L term\n",
      "            if stepsaway < 1:\n",
      "                if i > 0: EF[j, i - 1] += R1L[j, i] * (1 - stepsaway)\n",
      "                if i < n - 1: EF[j, i] -= R1L[j, i] * (1 - stepsaway)\n",
      "            else:\n",
      "                if i > 0: EF[j, -1] += ihist[int(stepsaway) - 1, i - 1] * R1L[j, i] * (ceil(stepsaway) - stepsaway)\n",
      "                if i < n - 1: EF[j, -1] -= ihist[int(stepsaway) - 1, i] * R1L[j, i] * (ceil(stepsaway) - stepsaway)\n",
      "            if i > 0: EF[j, -1] += ihist[int(stepsaway), i - 1] * R1L[j, i] * (stepsaway - floor(stepsaway))\n",
      "            if i < n - 1: EF[j, -1] -= ihist[int(stepsaway), i] * R1L[j, i] * (stepsaway - floor(stepsaway))\n",
      "             \n",
      "            # R2 term\n",
      "            I1 = I2 = 0\n",
      "            if i > 0:\n",
      "                I1 += ihist[ceil(stepsaway) - 1, i - 1]\n",
      "                I2 += ihist[ceil(stepsaway) - 2, i - 1]\n",
      "            if i < n - 1:\n",
      "                I1 -= ihist[ceil(stepsaway) - 1, i]\n",
      "                I2 -= ihist[ceil(stepsaway) - 2, i]\n",
      "            deltat = (ceil(stepsaway) - stepsaway) * dt\n",
      "\n",
      "            if stepsaway < 1:\n",
      "                if i > 0: EF[j, i - 1] += 0.5 * ((1 - stepsaway) * dt) ** 2 / dt * R2[j, i]\n",
      "                if i < n - 1: EF[j, i] -= 0.5 * ((1 - stepsaway) * dt) ** 2 / dt * R2[j, i]\n",
      "            else: EF[j, -1] += 0.5 * I2 * deltat ** 2 / dt * R2[j, i]\n",
      "            EF[j, -1] += (qhist[ceil(stepsaway) - 1, i] + 0.5 * (2 * I1 - I1 * deltat / dt) * deltat) * R2[j, i]\n",
      "            \n",
      "        for i in range(n - 1):\n",
      "            # R1T term\n",
      "            i2pos = (i + 0.5) * dx\n",
      "            stepsaway = abs((ipos - i2pos)) / constants.c / dt\n",
      "            if stepsaway < 1: EF[j, i] -= R1T[j, i] / dt\n",
      "            else: EF[j, -1] -= R1T[j, i] * ihist[int(stepsaway) - 1, i] / dt\n",
      "            EF[j, -1] += R1T[j, i] * ihist[int(stepsaway), i] / dt\n",
      "    EF[:, -1] += E_app\n",
      "    return EF, linalg.solve(EF[:,:-1] - R * identity(n - 1), -EF[:,-1])\n",
      "\n",
      "def timeStepsNeeded(qseg, iseg, dt):\n",
      "    d = 0\n",
      "    for i in qseg:\n",
      "        for j in iseg:\n",
      "            d2 = dist(i, j)\n",
      "            if d2 > d: d = d2\n",
      "    return int(d / constants.c / dt) + 2 # previous timesteps plus current one\n",
      "\n",
      "def straightLine(n, dx):\n",
      "    qseg = concatenate((zeros((n, 1)), zeros((n, 1)), (arange(n) * dx).reshape((n, 1))), axis=1)\n",
      "    iseg = 0.5 * (qseg[:-1] + qseg[1:])\n",
      "    idir = qseg[1:] - qseg[:-1]\n",
      "    adj = (concatenate((-identity(n - 1), zeros((1, n - 1)))) + concatenate((zeros((1, n - 1)), identity(n - 1)))).astype(int)\n",
      "    return qseg, iseg, idir, adj"
     ],
     "language": "python",
     "metadata": {},
     "outputs": [],
     "prompt_number": 26
    },
    {
     "cell_type": "code",
     "collapsed": false,
     "input": [
      "n = 5 # number of charge segments (one greater than number of current segments)\n",
      "dx = 5\n",
      "dt = 35e-9;       dt = (n - 1) * dx / constants.c / 2\n",
      "a = 0.003\n",
      "R = 10 * dx # resistance between adjacent charges\n",
      "E_app = 100000\n",
      "\n",
      "qseg, iseg, idir, adj = straightLine(n, dx)\n",
      "steps = timeStepsNeeded(qseg, iseg, dt)\n",
      "qhist = zeros((steps, n))\n",
      "ihist = zeros((steps, n - 1))"
     ],
     "language": "python",
     "metadata": {},
     "outputs": [],
     "prompt_number": 27
    },
    {
     "cell_type": "code",
     "collapsed": false,
     "input": [
      "EF, x = transitionMatrix(n, dx, a, R, 101, qhist, ihist, E_app)\n",
      "print x"
     ],
     "language": "python",
     "metadata": {},
     "outputs": [
      {
       "output_type": "stream",
       "stream": "stdout",
       "text": [
        "[ 792.46429037  874.20779961  874.20779961  792.46429037]\n"
       ]
      }
     ],
     "prompt_number": 29
    }
   ],
   "metadata": {}
  }
 ]
}