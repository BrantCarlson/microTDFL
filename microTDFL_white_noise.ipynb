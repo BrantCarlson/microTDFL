{
 "metadata": {
  "name": "",
  "signature": "sha256:5dc5581bd3aceca983b9ac0baa6f3041aa91003f340d21496997a1ad0f41158d"
 },
 "nbformat": 3,
 "nbformat_minor": 0,
 "worksheets": [
  {
   "cells": [
    {
     "cell_type": "code",
     "collapsed": false,
     "input": [
      "%pylab\n",
      "from microTDFL import *"
     ],
     "language": "python",
     "metadata": {},
     "outputs": [
      {
       "output_type": "stream",
       "stream": "stdout",
       "text": [
        "Using matplotlib backend: Qt4Agg\n",
        "Populating the interactive namespace from numpy and matplotlib\n"
       ]
      }
     ],
     "prompt_number": 39
    },
    {
     "cell_type": "code",
     "collapsed": false,
     "input": [
      "n = 50 # number of charge segments (one greater than number of current segments)\n",
      "dx = 5\n",
      "dt = 35e-9\n",
      "a = 0.003\n",
      "R = 5 * dx # resistance between adjacent charges\n",
      "E_app = 100000\n",
      "navg = 501\n",
      "\n",
      "m = timeStepsNeeded(n, dx, dt)\n",
      "R2 = computeR2(n, dx, a, navg)\n",
      "R1L = computeR1L(n, dx, a, navg)\n",
      "R1T = computeR1T(n, dx, a, navg)\n",
      "#G = getTransitionMatrix(n, m, dx, dt, E_app, R, R2, R1L, R1T)\n",
      "G = getTwoStageMatrix(n, m, dx, dt, E_app, R, R2, R1L, R1T)"
     ],
     "language": "python",
     "metadata": {},
     "outputs": [],
     "prompt_number": 2
    },
    {
     "cell_type": "code",
     "collapsed": false,
     "input": [
      "steps = 1000\n",
      "s = zeros((steps + m - 1,), dtype=complex)\n",
      "s[(steps+m-1)/2:] = exp(1j*np.random.uniform(0, 2*np.pi, ((steps+m-1) - (steps+m-1)/2,)))\n",
      "E = real(fft.ifft(s))\n",
      "E /= amax(abs(E))\n",
      "\n",
      "h = zeros((m * (n - 1) + n + 1, steps + m - 1))\n",
      "for i in range(1, len(h[0])):\n",
      "    h[-1, i-1] = E[i-1]\n",
      "    h[:, i] = G.dot(h[:, i-1])\n",
      "history = h[(m-1)*(n-1):-1, m-1:]\n",
      "save(\"history.npy\", history)"
     ],
     "language": "python",
     "metadata": {},
     "outputs": [],
     "prompt_number": 45
    },
    {
     "cell_type": "code",
     "collapsed": false,
     "input": [
      "psd(E, Fs=1/dt)\n",
      "show()"
     ],
     "language": "python",
     "metadata": {},
     "outputs": [],
     "prompt_number": 59
    },
    {
     "cell_type": "code",
     "collapsed": false,
     "input": [
      "plot(E)"
     ],
     "language": "python",
     "metadata": {},
     "outputs": [
      {
       "metadata": {},
       "output_type": "pyout",
       "prompt_number": 60,
       "text": [
        "[<matplotlib.lines.Line2D at 0x1225dc88>]"
       ]
      }
     ],
     "prompt_number": 60
    }
   ],
   "metadata": {}
  }
 ]
}