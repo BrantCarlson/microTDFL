{
 "metadata": {
  "name": "",
  "signature": "sha256:711d246ccfabd4cf2c8fadd53c6b4927a8a22af4892df92f2b880e6e67e7ab55"
 },
 "nbformat": 3,
 "nbformat_minor": 0,
 "worksheets": [
  {
   "cells": [
    {
     "cell_type": "code",
     "collapsed": false,
     "input": [
      "%pylab inline"
     ],
     "language": "python",
     "metadata": {},
     "outputs": [
      {
       "output_type": "stream",
       "stream": "stdout",
       "text": [
        "Populating the interactive namespace from numpy and matplotlib\n"
       ]
      }
     ],
     "prompt_number": 1
    },
    {
     "cell_type": "code",
     "collapsed": false,
     "input": [
      "def potentialMatrix(x, y):\n",
      "    return 1 / (identity(N) + abs(x - y)) - identity(N)\n",
      "\n",
      "def simulationMatrix():\n",
      "    A = concatenate((-identity(N - 1), zeros((N - 1, 1))), 1) + concatenate((zeros((N - 1, 1)), identity(N - 1)), 1)\n",
      "    D = fromfunction(potentialMatrix, (N, N)) + diag(q * (3/2) / r)\n",
      "    return identity(N) - dt/R * transpose(A).dot(A).dot(D)\n",
      "\n",
      "def simulate(q, steps):\n",
      "    q = linalg.matrix_power(simulationMatrix(), steps).dot(q)\n",
      "    plot(q, 'r')\n",
      "    xlabel('Position')\n",
      "    ylabel('Charge')\n",
      "    title(\"Charge\")\n",
      "    show()\n",
      "    return q"
     ],
     "language": "python",
     "metadata": {},
     "outputs": [],
     "prompt_number": 68
    },
    {
     "cell_type": "code",
     "collapsed": false,
     "input": [
      "N = 100\n",
      "Q = 1.0\n",
      "r = 0.5 # radius of charge\n",
      "R = 1 # resistance between adjacent charges\n",
      "steps = 1000\n",
      "dt = 0.01\n",
      "\n",
      "q = ones(N) * Q / N # uniform charge distribution\n",
      "# q = arange(N) * Q / (N * (N - 1) / 2) # charge proportional to position\n",
      "# q = sin(arange(N) / 5.0)\n",
      "# q = q * Q / sum(q) \n",
      "\n",
      "# charges placed at x = 0, 1, 2, ... , N - 1\n",
      "\n",
      "q = simulate(q, steps)"
     ],
     "language": "python",
     "metadata": {},
     "outputs": [
      {
       "metadata": {},
       "output_type": "display_data",
       "png": "[encoded data removed]",
       "text": [
        "<matplotlib.figure.Figure at 0x9f68128>"
       ]
      }
     ],
     "prompt_number": 69
    },
    {
     "cell_type": "code",
     "collapsed": false,
     "input": [
      "M = simulationMatrix()\n",
      "print linalg.eigvals(M)"
     ],
     "language": "python",
     "metadata": {},
     "outputs": [
      {
       "output_type": "stream",
       "stream": "stdout",
       "text": [
        "[ -1.08471765e+17   1.08484220e+17  -8.62759256e+16   8.63018070e+16\n",
        "  -6.73633385e+16   6.73909072e+16   1.08484220e+17  -1.08471765e+17\n",
        "   8.63018070e+16  -8.62759256e+16   3.83744083e+16   5.15497592e+16\n",
        "   2.04602446e+16  -5.13871565e+16  -3.82457533e+16  -1.87811826e+16\n",
        "  -6.73633385e+16   6.73909072e+16  -2.80521383e+16   1.40436276e+16\n",
        "   2.73399387e+16  -5.13871565e+16   5.15497592e+16  -1.09507806e+16\n",
        "   3.83744083e+16  -3.82457533e+16   7.84298393e+15  -2.80521383e+16\n",
        "   2.73399387e+16  -5.68824879e+15   2.04602446e+16  -1.87811826e+16\n",
        "   3.86822738e+15   1.40436276e+16  -1.09507806e+16  -2.68091350e+15\n",
        "   7.84298393e+15  -5.68824879e+15   1.72471874e+15  -1.16777589e+15\n",
        "   3.86822738e+15  -2.68091350e+15   7.01030259e+14   1.72471874e+15\n",
        "  -5.28295446e+14  -1.16777589e+15  -3.51556205e+14  -3.51556205e+14\n",
        "   7.01030259e+14  -5.28295446e+14  -1.49591561e+14   2.61466526e+14\n",
        "   2.61466526e+14  -1.49591561e+14   9.01206499e+13   9.01206499e+13\n",
        "  -5.09055379e+13  -5.09055379e+13   2.88401190e+13   2.88401190e+13\n",
        "  -1.58128201e+13  -1.58128200e+13   8.58457014e+12   8.58457013e+12\n",
        "  -4.54491505e+12  -4.54491504e+12   2.38109455e+12   2.38109453e+12\n",
        "  -1.21310262e+12  -1.21310261e+12   6.17874872e+11   6.17874851e+11\n",
        "  -3.00284797e+11  -3.00284801e+11   1.51590738e+11   1.51590711e+11\n",
        "  -6.78939958e+10  -6.78940040e+10   3.64565701e+10   3.64565533e+10\n",
        "  -1.29701274e+10  -1.29701252e+10   9.86106005e+09   9.86103726e+09\n",
        "   4.51196967e+09   4.51187392e+09   3.84248647e+09   3.73983194e+09\n",
        "   3.44166036e+09   3.05156691e+09  -1.27489593e+09  -1.27488824e+09\n",
        "   2.53686359e+09   1.87398259e+09   1.26378563e+09   8.04852381e+08\n",
        "   5.39117702e+00   5.02597260e+07   1.98987079e+08   4.51371924e+08]\n"
       ]
      }
     ],
     "prompt_number": 70
    }
   ],
   "metadata": {}
  }
 ]
}