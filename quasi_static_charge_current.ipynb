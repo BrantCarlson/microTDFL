{
 "metadata": {
  "name": "",
  "signature": "sha256:3646fc37cfbcbd45608b164d91fc6196d0a6dded765b6a41bdf0865aa6ac6d41"
 },
 "nbformat": 3,
 "nbformat_minor": 0,
 "worksheets": [
  {
   "cells": [
    {
     "cell_type": "code",
     "collapsed": false,
     "input": [
      "%pylab inline"
     ],
     "language": "python",
     "metadata": {},
     "outputs": [
      {
       "output_type": "stream",
       "stream": "stdout",
       "text": [
        "Populating the interactive namespace from numpy and matplotlib\n"
       ]
      }
     ],
     "prompt_number": 5
    },
    {
     "cell_type": "code",
     "collapsed": false,
     "input": [
      "def potential(x, y):\n",
      "    if x == y: return 3 / (2 * r)\n",
      "    return 1.0 / dist(pos[x], pos[y])\n",
      "\n",
      "def simulationMatrix():\n",
      "    D = zeros((N, N))\n",
      "    for i in range(N):\n",
      "        for j in range(N):\n",
      "            D[i, j] = potential(i, j)\n",
      "    A = adj - diag(ones((1, N)).dot(adj)[0])\n",
      "    return identity(N) + dt / R * A.dot(D)\n",
      "\n",
      "def simulate(q, steps):\n",
      "    q = linalg.matrix_power(simulationMatrix(), steps).dot(q)\n",
      "    plot(q, 'r')\n",
      "    xlabel('Position')\n",
      "    ylabel('Charge')\n",
      "    title(\"Charge\")\n",
      "    show()\n",
      "    return q"
     ],
     "language": "python",
     "metadata": {},
     "outputs": [],
     "prompt_number": 65
    },
    {
     "cell_type": "code",
     "collapsed": false,
     "input": [
      "N = 300\n",
      "Q = 1.0\n",
      "r = 0.5 # radius of charge\n",
      "R = 100 # resistance between adjacent charges\n",
      "steps = 10000\n",
      "dt = 1.0\n",
      "\n",
      "\"\"\"\n",
      "pos = concatenate((arange(N).reshape((N, 1)), zeros((N, 1)), zeros((N, 1))), axis=1)   # <\n",
      "adj = concatenate((zeros((N - 1, 1)), identity(N - 1)), axis=1)                        #     straight\n",
      "adj = concatenate((adj, zeros((1, N))))                                                #       line\n",
      "adj += transpose(adj)                                                                  #                >\n",
      "\"\"\"\n",
      "\n",
      "# < T-shape (N must be a multiple of 3)\n",
      "pos = zeros((N, 3))\n",
      "for i in range(2*N/3):\n",
      "    pos[i, 0] = i\n",
      "for i in range(N/3):\n",
      "    pos[i+2*N/3, 0] = N/3\n",
      "    pos[i+2*N/3, 1] = i+1\n",
      "adj = zeros((N, N))\n",
      "for i in range(N):\n",
      "    for j in range(N):\n",
      "        if j - i == 1: adj[i, j] = 1\n",
      "adj[2*N/3-1, 2*N/3] = 0\n",
      "adj[N/3, 2*N/3] = 1\n",
      "adj += transpose(adj)\n",
      "# T-shape >\n",
      "\n",
      "# q = ones(N) * Q / N # uniform charge distribution\n",
      "q = arange(N) * Q / (N * (N - 1) / 2) # charge proportional to position\n",
      "# q = sin(arange(N) / 5.0)\n",
      "# q = q * Q / sum(q) \n",
      "\n",
      "q = simulate(q, steps)\n",
      "M = simulationMatrix()\n",
      "print sort(linalg.eigvals(M))"
     ],
     "language": "python",
     "metadata": {},
     "outputs": [
      {
       "metadata": {},
       "output_type": "display_data",
       "png": "[encoded data removed]",
       "text": [
        "<matplotlib.figure.Figure at 0x9fab1d0>"
       ]
      },
      {
       "output_type": "stream",
       "stream": "stdout",
       "text": [
        "[ 0.92428959  0.93545782  0.93545786  0.93545798  0.93547597  0.93547613\n",
        "  0.93547662  0.93550624  0.93550661  0.93550772  0.93554868  0.93554934\n",
        "  0.93555131  0.93560336  0.93560438  0.93560746  0.93567033  0.93567181\n",
        "  0.93567625  0.9357497   0.93575172  0.93575777  0.93584157  0.93584421\n",
        "  0.93585213  0.93594607  0.93594941  0.93595947  0.93606333  0.93606747\n",
        "  0.93607991  0.93619351  0.93619852  0.93621362  0.93633677  0.93634275\n",
        "  0.93636078  0.9364933   0.93650032  0.93652156  0.93666329  0.93667145\n",
        "  0.93669616  0.93684694  0.93685632  0.93688479  0.93704446  0.93705517\n",
        "  0.93708768  0.93725609  0.93726821  0.93730506  0.93748206  0.93749568\n",
        "  0.93753717  0.93772262  0.93773784  0.93778425  0.93797801  0.93799493\n",
        "  0.93804657  0.9382485   0.93826721  0.93832439  0.93853435  0.93855495\n",
        "  0.93861798  0.93883582  0.93885843  0.93892761  0.9391532   0.93917791\n",
        "  0.93925356  0.93948675  0.93951368  0.93959611  0.93983675  0.939866\n",
        "  0.93995553  0.94020348  0.94023516  0.94033211  0.9405872   0.94062143\n",
        "  0.94072611  0.94098818  0.94102509  0.94113782  0.94140669  0.94144641\n",
        "  0.94156749  0.941843    0.94188564  0.94201539  0.94229734  0.94234304\n",
        "  0.94248177  0.94276997  0.94281887  0.94296687  0.94326112  0.94331336\n",
        "  0.94347093  0.943771    0.94382673  0.94399416  0.94429984  0.9443592\n",
        "  0.94453677  0.94484782  0.94491097  0.94509895  0.94541512  0.94548223\n",
        "  0.94568088  0.94600191  0.94607313  0.9462827   0.94660832  0.94668383\n",
        "  0.94690456  0.94723448  0.94731444  0.94754656  0.94788049  0.94796508\n",
        "  0.94820879  0.94854641  0.94863583  0.94889132  0.94923231  0.94932673\n",
        "  0.94959418  0.94993821  0.95003782  0.95031739  0.9506641   0.95076909\n",
        "  0.95106091  0.95140995  0.95152051  0.95182469  0.95217569  0.95229202\n",
        "  0.95260865  0.95296122  0.95308351  0.95341267  0.95376642  0.95389485\n",
        "  0.95423659  0.95459111  0.95472588  0.9550802   0.95543508  0.95557638\n",
        "  0.95594328  0.95629808  0.95644609  0.95682554  0.95717984  0.95733474\n",
        "  0.95772666  0.95808002  0.95824198  0.95864628  0.95899825  0.95916742\n",
        "  0.95958397  0.95993411  0.96011065  0.96053929  0.96088713  0.96107118\n",
        "  0.96151172  0.9618568   0.96204849  0.96250069  0.96284255  0.96304199\n",
        "  0.96350559  0.96384377  0.96405106  0.96452574  0.96485978  0.96507499\n",
        "  0.96556043  0.96588986  0.96611305  0.96660886  0.96693322  0.96716443\n",
        "  0.96767019  0.96798903  0.96822826  0.9687435   0.96905638  0.96930362\n",
        "  0.96982783  0.97013431  0.9703895   0.97092214  0.97122178  0.97148484\n",
        "  0.97202532  0.9723177   0.97258852  0.97313619  0.97342091  0.97369934\n",
        "  0.97425351  0.97453017  0.97481602  0.97537594  0.97564417  0.97593721\n",
        "  0.9765021   0.97676153  0.97706148  0.97763049  0.97788078  0.97818732\n",
        "  0.97875956  0.97900038  0.97931313  0.97988765  0.9801187   0.98043723\n",
        "  0.98101301  0.98123402  0.98155785  0.98213381  0.98234453  0.9826731\n",
        "  0.98324811  0.98344832  0.98378102  0.98435388  0.98454338  0.98487952\n",
        "  0.98544895  0.98562758  0.98596641  0.98653105  0.98669868  0.98703935\n",
        "  0.98759778  0.98775432  0.98809591  0.98864662  0.98879201  0.98913348\n",
        "  0.98967486  0.98980909  0.99014932  0.99067967  0.99080275  0.99114052\n",
        "  0.99165802  0.99177003  0.99210395  0.99260667  0.99270772  0.9930363\n",
        "  0.99352217  0.99361243  0.99393402  0.9944008   0.99448048  0.99479323\n",
        "  0.99523853  0.99530791  0.99560979  0.99603097  0.99609039  0.9963791\n",
        "  0.9967733   0.99682316  0.99709614  0.99746015  0.9975009   0.99775519\n",
        "  0.99808543  0.99811766  0.99834984  0.99864214  0.99866645  0.99887244\n",
        "  0.99912193  0.99913912  0.99931392  0.99951445  0.99952527  0.99966236\n",
        "  0.99980589  0.99981169  0.99990121  0.99997486  0.9999758   1.        ]\n"
       ]
      }
     ],
     "prompt_number": 78
    },
    {
     "cell_type": "code",
     "collapsed": false,
     "input": [],
     "language": "python",
     "metadata": {},
     "outputs": []
    }
   ],
   "metadata": {}
  }
 ]
}