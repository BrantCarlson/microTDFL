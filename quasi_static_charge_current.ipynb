{
 "metadata": {
  "name": "",
  "signature": "sha256:fdcb18d55bdbe663a8e07b4591b883849c714404630de789cc21f86564e8f6a4"
 },
 "nbformat": 3,
 "nbformat_minor": 0,
 "worksheets": [
  {
   "cells": [
    {
     "cell_type": "code",
     "collapsed": false,
     "input": [
      "%pylab inline"
     ],
     "language": "python",
     "metadata": {},
     "outputs": [
      {
       "output_type": "stream",
       "stream": "stdout",
       "text": [
        "Populating the interactive namespace from numpy and matplotlib\n"
       ]
      }
     ],
     "prompt_number": 1
    },
    {
     "cell_type": "code",
     "collapsed": false,
     "input": [
      "def potentialMatrix(x, y):\n",
      "    return 1 / (identity(N) + abs(x - y)) - identity(N)\n",
      "\n",
      "def simulationMatrix():\n",
      "    A = concatenate((-identity(N - 1), zeros((N - 1, 1))), 1) + concatenate((zeros((N - 1, 1)), identity(N - 1)), 1)\n",
      "    D = fromfunction(potentialMatrix, (N, N))\n",
      "    return identity(N) - dt/R * transpose(A).dot(A).dot(D)\n",
      "\n",
      "def simulate(q, steps):\n",
      "    q = linalg.matrix_power(simulationMatrix(), steps).dot(q)\n",
      "    plot(q, 'r')\n",
      "    xlabel('Position')\n",
      "    ylabel('Charge')\n",
      "    title(\"Charge\")\n",
      "    show()\n",
      "    return q"
     ],
     "language": "python",
     "metadata": {},
     "outputs": [],
     "prompt_number": 4
    },
    {
     "cell_type": "code",
     "collapsed": false,
     "input": [
      "N = 100\n",
      "Q = 1.0\n",
      "R = 1\n",
      "steps = 1000\n",
      "dt = 0.01\n",
      "\n",
      "# q = ones(N) * Q / N # uniform charge distribution\n",
      "# q = arange(N) * Q / (N * (N - 1) / 2) # charge proportional to position\n",
      "q = sin(arange(N) / 5.0)\n",
      "q = q * Q / sum(q) \n",
      "\n",
      "# charges placed at x = 0, 1, 2, ... , N - 1\n",
      "\n",
      "q = simulate(q, steps)"
     ],
     "language": "python",
     "metadata": {},
     "outputs": [
      {
       "metadata": {},
       "output_type": "display_data",
       "png": "[encoded data removed]",
       "text": [
        "<matplotlib.figure.Figure at 0x9f3ee48>"
       ]
      }
     ],
     "prompt_number": 5
    }
   ],
   "metadata": {}
  }
 ]
}