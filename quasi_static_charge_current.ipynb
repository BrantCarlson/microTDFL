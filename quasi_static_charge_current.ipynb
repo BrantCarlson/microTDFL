{
 "metadata": {
  "name": "",
  "signature": "sha256:b2733949a3289aa35a8f685f529608a71c64bb8b2baaada479c4b6557b77f870"
 },
 "nbformat": 3,
 "nbformat_minor": 0,
 "worksheets": [
  {
   "cells": [
    {
     "cell_type": "code",
     "collapsed": false,
     "input": [
      "%pylab inline"
     ],
     "language": "python",
     "metadata": {},
     "outputs": [
      {
       "output_type": "stream",
       "stream": "stdout",
       "text": [
        "Populating the interactive namespace from numpy and matplotlib\n"
       ]
      }
     ],
     "prompt_number": 5
    },
    {
     "cell_type": "code",
     "collapsed": false,
     "input": [
      "def potential(x, y):\n",
      "    if x == y: return 3 / (2 * r)\n",
      "    return 1.0 / dist(pos[x], pos[y])\n",
      "\n",
      "def simulationMatrix():\n",
      "    D = zeros((N, N))\n",
      "    for i in range(N):\n",
      "        for j in range(N):\n",
      "            D[i, j] = potential(i, j)\n",
      "    A = adj - diag(ones((1, N)).dot(adj)[0])\n",
      "    return identity(N) + dt / R * A.dot(D)\n",
      "\n",
      "def simulate(q, steps):\n",
      "    q = linalg.matrix_power(simulationMatrix(), steps).dot(q)\n",
      "    plot(q, 'r')\n",
      "    xlabel('Position')\n",
      "    ylabel('Charge')\n",
      "    title(\"Charge\")\n",
      "    show()\n",
      "    return q"
     ],
     "language": "python",
     "metadata": {},
     "outputs": [],
     "prompt_number": 65
    },
    {
     "cell_type": "code",
     "collapsed": false,
     "input": [
      "N = 500\n",
      "Q = 1.0\n",
      "r = 0.5 # radius of charge\n",
      "R = 100 # resistance between adjacent charges\n",
      "steps = 1000000\n",
      "dt = 1.0\n",
      "\n",
      "pos = concatenate((arange(N).reshape((N, 1)), zeros((N, 1)), zeros((N, 1))), axis=1)   # <\n",
      "adj = concatenate((zeros((N - 1, 1)), identity(N - 1)), axis=1)                        #     straight\n",
      "adj = concatenate((adj, zeros((1, N))))                                                #       line\n",
      "adj += transpose(adj)                                                                  #                >\n",
      "\n",
      "# q = ones(N) * Q / N # uniform charge distribution\n",
      "q = arange(N) * Q / (N * (N - 1) / 2) # charge proportional to position\n",
      "# q = sin(arange(N) / 5.0)\n",
      "# q = q * Q / sum(q) \n",
      "\n",
      "q = simulate(q, steps)\n",
      "M = simulationMatrix()\n",
      "# print sort(linalg.eigvals(M))"
     ],
     "language": "python",
     "metadata": {},
     "outputs": [
      {
       "metadata": {},
       "output_type": "display_data",
       "png": "[encoded data removed]",
       "text": [
        "<matplotlib.figure.Figure at 0x9de8a20>"
       ]
      }
     ],
     "prompt_number": 67
    }
   ],
   "metadata": {}
  }
 ]
}