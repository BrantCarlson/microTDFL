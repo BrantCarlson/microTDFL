{
 "metadata": {
  "name": "",
  "signature": "sha256:41e8206b628125c298cf78b1e0b5b31762907e25b775d59a643ab5e68a979ac7"
 },
 "nbformat": 3,
 "nbformat_minor": 0,
 "worksheets": [
  {
   "cells": [
    {
     "cell_type": "code",
     "collapsed": false,
     "input": [
      "%pylab inline"
     ],
     "language": "python",
     "metadata": {},
     "outputs": [
      {
       "output_type": "stream",
       "stream": "stdout",
       "text": [
        "Populating the interactive namespace from numpy and matplotlib\n"
       ]
      }
     ],
     "prompt_number": 5
    },
    {
     "cell_type": "code",
     "collapsed": false,
     "input": [
      "def potential(x, y, pos):\n",
      "    if x == y: return 3 / (2 * r)\n",
      "    return 1.0 / dist(pos[x], pos[y])\n",
      "\n",
      "def simulationMatrix(pos, adj, R, dt):\n",
      "    N = len(pos)\n",
      "    D = zeros((N, N))\n",
      "    for i in range(N):\n",
      "        for j in range(N):\n",
      "            D[i, j] = potential(i, j, pos)\n",
      "    A = adj - diag(ones((1, N)).dot(adj)[0])\n",
      "    return identity(N) + dt / R * A.dot(D)\n",
      "\n",
      "def simulate(q, M, steps):\n",
      "    q = linalg.matrix_power(M, steps).dot(q)\n",
      "    plot(q, 'r')\n",
      "    xlabel('Position')\n",
      "    ylabel('Charge')\n",
      "    title(\"Charge\")\n",
      "    show()\n",
      "    return q\n",
      "\n",
      "def straightLine(N):\n",
      "    pos = concatenate((arange(N).reshape((N, 1)), zeros((N, 1)), zeros((N, 1))), axis=1)\n",
      "    adj = concatenate((zeros((N - 1, 1)), identity(N - 1)), axis=1)\n",
      "    adj = concatenate((adj, zeros((1, N))))\n",
      "    adj += transpose(adj)\n",
      "    return pos, adj\n",
      "    \n",
      "def Tshape(N):\n",
      "    if N % 3 != 0: raise ValueError(\"N must be a multiple of 3.\")\n",
      "    pos = zeros((N, 3))\n",
      "    for i in range(2*N/3):\n",
      "        pos[i, 0] = i\n",
      "    for i in range(N/3):\n",
      "        pos[i+2*N/3, 0] = N/3\n",
      "        pos[i+2*N/3, 1] = i+1\n",
      "    adj = zeros((N, N))\n",
      "    for i in range(N):\n",
      "        for j in range(N):\n",
      "            if j - i == 1: adj[i, j] = 1\n",
      "    adj[2*N/3-1, 2*N/3] = 0\n",
      "    adj[N/3, 2*N/3] = 1\n",
      "    adj += transpose(adj)\n",
      "    return pos, adj"
     ],
     "language": "python",
     "metadata": {},
     "outputs": [],
     "prompt_number": 156
    },
    {
     "cell_type": "code",
     "collapsed": false,
     "input": [
      "N = 300\n",
      "Q = 1.0\n",
      "r = 0.5 # radius of charge\n",
      "R = 10 # resistance between adjacent charges\n",
      "steps = 100000\n",
      "dt = 1.0\n",
      "\n",
      "pos, adj = Tshape(N)\n",
      "\n",
      "# q = ones(N) * Q / N             # uniform charge distribution\n",
      "q = arange(N)                     # charge proportional to position\n",
      "# q = sin(arange(N) / 5.0)        # sinusoidal distribution\n",
      "q = q * Q / sum(q)\n",
      "\n",
      "M = simulationMatrix(pos, adj, R, dt)\n",
      "q = simulate(q, M, steps)"
     ],
     "language": "python",
     "metadata": {},
     "outputs": [
      {
       "metadata": {},
       "output_type": "display_data",
       "png": "[encoded data removed]",
       "text": [
        "<matplotlib.figure.Figure at 0x9fbf358>"
       ]
      }
     ],
     "prompt_number": 160
    }
   ],
   "metadata": {}
  }
 ]
}