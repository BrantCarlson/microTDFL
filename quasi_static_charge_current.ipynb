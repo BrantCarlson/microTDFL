{
 "metadata": {
  "name": "",
  "signature": "sha256:cc3cfe1a0d84592c17ea419e6fac3368925dccc21299dbc427d39326ca298684"
 },
 "nbformat": 3,
 "nbformat_minor": 0,
 "worksheets": [
  {
   "cells": [
    {
     "cell_type": "code",
     "collapsed": false,
     "input": [
      "%pylab inline"
     ],
     "language": "python",
     "metadata": {},
     "outputs": [
      {
       "output_type": "stream",
       "stream": "stdout",
       "text": [
        "Populating the interactive namespace from numpy and matplotlib\n"
       ]
      }
     ],
     "prompt_number": 1
    },
    {
     "cell_type": "code",
     "collapsed": false,
     "input": [
      "def potential(x, y, pos):\n",
      "    if x == y: return 3 / (2 * r)\n",
      "    return 1.0 / dist(pos[x], pos[y])\n",
      "\n",
      "def simulationMatrix(pos, adj, ext, R, dt):\n",
      "    N = len(pos)\n",
      "    D = zeros((N, N))\n",
      "    for i in range(N):\n",
      "        for j in range(N):\n",
      "            D[i, j] = potential(i, j, pos)\n",
      "    D = concatenate((D, ext), axis=1)\n",
      "    A = concatenate((adj - diag(ones((1, N)).dot(adj)[0]), zeros((1, N))))\n",
      "    return identity(N + 1) + dt / R * A.dot(D)\n",
      "\n",
      "def simulate(q, M, steps):\n",
      "    return linalg.matrix_power(M, steps).dot(append(q, 1))[:-1]\n",
      "    \n",
      "def displayCharge(q):\n",
      "    plot(q, 'r')\n",
      "    xlabel('Position')\n",
      "    ylabel('Charge')\n",
      "    title(\"Charge\")\n",
      "    show()\n",
      "\n",
      "def straightLine(N):\n",
      "    pos = concatenate((arange(N).reshape((N, 1)), zeros((N, 1)), zeros((N, 1))), axis=1)\n",
      "    adj = concatenate((zeros((N - 1, 1)), identity(N - 1)), axis=1)\n",
      "    adj = concatenate((adj, zeros((1, N))))\n",
      "    adj += transpose(adj)\n",
      "    return pos, adj\n",
      "    \n",
      "def Tshape(N):\n",
      "    if N % 3 != 0: raise ValueError(\"N must be a multiple of 3.\")\n",
      "    pos = zeros((N, 3))\n",
      "    for i in range(2*N/3):\n",
      "        pos[i, 0] = i\n",
      "    for i in range(N/3):\n",
      "        pos[i+2*N/3, 0] = N/3\n",
      "        pos[i+2*N/3, 1] = i+1\n",
      "    adj = zeros((N, N))\n",
      "    for i in range(N):\n",
      "        for j in range(N):\n",
      "            if j - i == 1: adj[i, j] = 1\n",
      "    adj[2*N/3-1, 2*N/3] = 0\n",
      "    adj[N/3, 2*N/3] = 1\n",
      "    adj += transpose(adj)\n",
      "    return pos, adj"
     ],
     "language": "python",
     "metadata": {},
     "outputs": [],
     "prompt_number": 92
    },
    {
     "cell_type": "code",
     "collapsed": false,
     "input": [
      "N = 300\n",
      "Q = 1.0\n",
      "r = 0.5 # radius of charge\n",
      "R = 10 # resistance between adjacent charges\n",
      "steps = 10000\n",
      "dt = 1.0\n",
      "\n",
      "pos, adj = Tshape(N)\n",
      "ext = -pos.dot(array((0.1, 0.1, 0)).reshape((3, 1)))\n",
      "\n",
      "q = ones(N) * Q / N               # uniform charge distribution\n",
      "# q = arange(N)                   # charge proportional to position\n",
      "# q = sin(arange(N) / 5.0)        # sinusoidal distribution\n",
      "q = q * Q / sum(q)\n",
      "\n",
      "M = simulationMatrix(pos, adj, ext, R, dt)\n",
      "q = simulate(q, M, steps)\n",
      "displayCharge(q)\n",
      "print max(abs(linalg.eigvals(M)))"
     ],
     "language": "python",
     "metadata": {},
     "outputs": [
      {
       "metadata": {},
       "output_type": "display_data",
       "png": "[encoded data removed]",
       "text": [
        "<matplotlib.figure.Figure at 0x9ff64e0>"
       ]
      },
      {
       "output_type": "stream",
       "stream": "stdout",
       "text": [
        "1.0\n"
       ]
      }
     ],
     "prompt_number": 118
    }
   ],
   "metadata": {}
  }
 ]
}