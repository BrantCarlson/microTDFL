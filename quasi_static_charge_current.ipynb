{
 "metadata": {
  "name": "",
  "signature": "sha256:34a59ddad94fc66593de246aa7563bf5b7514ecadb7294a817819cdc56f7357a"
 },
 "nbformat": 3,
 "nbformat_minor": 0,
 "worksheets": [
  {
   "cells": [
    {
     "cell_type": "code",
     "collapsed": false,
     "input": [
      "%pylab inline"
     ],
     "language": "python",
     "metadata": {},
     "outputs": [
      {
       "output_type": "stream",
       "stream": "stdout",
       "text": [
        "Populating the interactive namespace from numpy and matplotlib\n"
       ]
      }
     ],
     "prompt_number": 1
    },
    {
     "cell_type": "code",
     "collapsed": false,
     "input": [
      "def potential(x):\n",
      "    elecPotential = 0\n",
      "    for i in range(N):\n",
      "        if x - i != 0:\n",
      "            elecPotential += q[i] / abs(x - i)\n",
      "    return elecPotential\n",
      "\n",
      "def timestep(q, dt):\n",
      "    for i in range(N): V[i] = potential(i)\n",
      "    I = -(V[1:] - V[:-1]) / R\n",
      "    q += concatenate((zeros(1), I * dt)) - concatenate((I * dt, zeros(1)))\n",
      "    return q\n",
      "\n",
      "def simulate(q, steps):\n",
      "    for i in range(steps):\n",
      "        q = timestep(q, dt)\n",
      "\n",
      "    plot(q, 'r')\n",
      "    xlabel('Position')\n",
      "    ylabel('Charge')\n",
      "    title(\"Charge\")\n",
      "    show()"
     ],
     "language": "python",
     "metadata": {},
     "outputs": [],
     "prompt_number": 26
    },
    {
     "cell_type": "code",
     "collapsed": false,
     "input": [
      "N = 100\n",
      "Q = 1.0\n",
      "R = 1\n",
      "steps = 100\n",
      "dt = 0.01\n",
      "\n",
      "# q = ones(N) * Q / N # uniform charge distribution\n",
      "q = arange(N) * Q / (N * (N - 1) / 2)\n",
      "\n",
      "V = zeros(N)\n",
      "I = []\n",
      "# charges placed at x = 0, 1, 2, ..., N - 1\n",
      "\n",
      "simulate(q, steps)"
     ],
     "language": "python",
     "metadata": {},
     "outputs": [
      {
       "metadata": {},
       "output_type": "display_data",
       "png": "[encoded data removed]",
       "text": [
        "<matplotlib.figure.Figure at 0xa14f9e8>"
       ]
      }
     ],
     "prompt_number": 62
    }
   ],
   "metadata": {}
  }
 ]
}