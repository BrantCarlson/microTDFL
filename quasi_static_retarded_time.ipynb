{
 "metadata": {
  "name": "",
  "signature": "sha256:824bea78ab41538e15221376a1233f3cd4c734b4294d457c9aab5f71701171ad"
 },
 "nbformat": 3,
 "nbformat_minor": 0,
 "worksheets": [
  {
   "cells": [
    {
     "cell_type": "code",
     "collapsed": false,
     "input": [
      "%pylab inline\n",
      "from scipy import constants"
     ],
     "language": "python",
     "metadata": {},
     "outputs": [
      {
       "output_type": "stream",
       "stream": "stdout",
       "text": [
        "Populating the interactive namespace from numpy and matplotlib\n"
       ]
      }
     ],
     "prompt_number": 37
    },
    {
     "cell_type": "code",
     "collapsed": false,
     "input": [
      "def EFieldMatrix(qseg, iseg, dt, steps):\n",
      "    n = len(qseg)\n",
      "    M = zeros((n - 1, n * steps + 1))\n",
      "    for j in range(n - 1):\n",
      "        for i in range(n):\n",
      "            d = dist(qseg[i], iseg[j])\n",
      "            stepsback = d / constants.c / dt\n",
      "            a = int(stepsback)\n",
      "            w_a = a + 1 - stepsback\n",
      "            w_b = stepsback - a\n",
      "            M[j, a*n + i] = w_a\n",
      "            M[j, (a+1)*n + i] = w_b\n",
      "    M[:,-1] = 1\n",
      "    return M\n",
      "\n",
      "def timeStepsNeeded(qseg, iseg, dt):\n",
      "    d = 0\n",
      "    for i in qseg:\n",
      "        for j in iseg:\n",
      "            d2 = dist(i, j)\n",
      "            if d2 > d: d = d2\n",
      "    return ceil(d / constants.c / dt) + 1 # previous timesteps plus current one\n",
      "\n",
      "# eventually should also return a matrix of coefficients like Eq. 20 in TDFL math paper\n",
      "def straightLine(n, dx):\n",
      "    qseg = concatenate(((arange(n) * dx).reshape((n, 1)), zeros((n, 1)), zeros((n, 1))), axis=1)\n",
      "    iseg = 0.5 * (qseg[:-1] + qseg[1:])\n",
      "    idir = qseg[1:] - qseg[:-1]\n",
      "    return qseg, iseg, idir"
     ],
     "language": "python",
     "metadata": {},
     "outputs": [],
     "prompt_number": 101
    },
    {
     "cell_type": "code",
     "collapsed": false,
     "input": [
      "n = 200\n",
      "dt = 10e-9\n",
      "dx = constants.c * dt#5\n",
      "R = 10 * dx # resistance between adjacent charges\n",
      "E_app = 100000\n",
      "\n",
      "qseg, iseg, idir = straightLine(n, dx)\n",
      "steps = timeStepsNeeded(qseg, iseg, dt)\n",
      "qhist = zeros((n * steps + 1, 1))\n",
      "qhist[-1] = E_app\n",
      "M = EFieldMatrix(qseg, iseg, dt, steps)\n",
      "print size(M)"
     ],
     "language": "python",
     "metadata": {},
     "outputs": [
      {
       "output_type": "stream",
       "stream": "stdout",
       "text": [
        "7960199\n"
       ]
      }
     ],
     "prompt_number": 110
    },
    {
     "cell_type": "code",
     "collapsed": false,
     "input": [],
     "language": "python",
     "metadata": {},
     "outputs": []
    }
   ],
   "metadata": {}
  }
 ]
}