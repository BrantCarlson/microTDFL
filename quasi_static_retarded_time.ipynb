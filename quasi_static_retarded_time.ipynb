{
 "metadata": {
  "name": "",
  "signature": "sha256:0521460117535521324850679558e5c30d49aa4dd2918d9b6b00cf4d3fa705b7"
 },
 "nbformat": 3,
 "nbformat_minor": 0,
 "worksheets": [
  {
   "cells": [
    {
     "cell_type": "code",
     "collapsed": false,
     "input": [
      "%pylab inline\n",
      "from scipy import constants, integrate\n",
      "np.set_printoptions(suppress=True)"
     ],
     "language": "python",
     "metadata": {},
     "outputs": [
      {
       "output_type": "stream",
       "stream": "stdout",
       "text": [
        "Populating the interactive namespace from numpy and matplotlib\n"
       ]
      }
     ],
     "prompt_number": 1
    },
    {
     "cell_type": "code",
     "collapsed": false,
     "input": [
      "def R2integrand(t, qsegstart, qsegend, ipos, ihat):\n",
      "    r = ipos - (qsegstart * (1 - t) + qsegend * t)\n",
      "    return ihat.dot(r) / norm(r) / (sum(r**2) + a**2) * norm(qsegend - qsegstart)\n",
      "\n",
      "def computeR2(qseg, iseg, idir, adj, a, navg):\n",
      "    n = len(qseg)\n",
      "    R2 = zeros((n - 1, n))\n",
      "    for i in range(n):\n",
      "        for j in range(n - 1):\n",
      "            l = 0\n",
      "            for k in filter(lambda k: adj[i, k] != 0, range(n - 1)):\n",
      "                for s in range(navg):\n",
      "                    ipos = iseg[j] + (s / (navg - 1.0) - 0.5) * idir[j]\n",
      "                    R2[j, i] += integrate.quad(R2integrand, 0, 1, (qseg[i], iseg[k], ipos, idir[j] / norm(idir[j])))[0] / navg\n",
      "                l += norm(iseg[k] - qseg[i])\n",
      "            R2[j, i] /= (4 * pi * constants.epsilon_0 * l)\n",
      "    return R2\n",
      "\n",
      "def computeR2StraightLine(n, dx, a, navg):\n",
      "    n = len(qseg)\n",
      "    R2 = zeros((n - 1, n))\n",
      "    for i in range(n):\n",
      "        c = max((i - 0.5) * dx, 0)\n",
      "        d = min((i + 0.5) * dx, (n - 1) * dx)\n",
      "        for j in range(n - 1):\n",
      "            for k in range(navg):\n",
      "                x = (j + k / (navg - 1.0)) * dx\n",
      "                if x < c: R2[j, i] += (arctan((c - x) / a) - arctan((d - x) / a))\n",
      "                elif x > d: R2[j, i] += (arctan((d - x) / a) - arctan((c - x) / a))\n",
      "                else: R2[j, i] += (-arctan((c - x) / a) - arctan((d - x) / a))\n",
      "            R2[j, i] /= (4 * pi * constants.epsilon_0 * dx * a * navg)\n",
      "            if i == 0 or i == n - 1: R2[j, i] *= 2\n",
      "    return R2\n",
      "\n",
      "def transitionMatrix(qseg, iseg, idir, adj, dt, steps, a, navg):\n",
      "    n = len(qseg)\n",
      "    interp = zeros((n - 1, n * steps + 1))\n",
      "    for j in range(n - 1):\n",
      "        for i in range(n):\n",
      "            d = dist(qseg[i], iseg[j])\n",
      "            stepsback = d / constants.c / dt\n",
      "            s1 = int(stepsback)\n",
      "            w1 = s1 + 1 - stepsback\n",
      "            w2 = stepsback - s1\n",
      "            interp[j, s1*n + i] = w1\n",
      "            interp[j, (s1+1)*n + i] = w2\n",
      "    interp[:,-1] = 1\n",
      "    R2 = computeR2StraightLine(n, dx, a, navg)\n",
      "    EF = concatenate([R2 for i in range(steps)] + [zeros((n - 1, 1))], axis=1) * interp\n",
      "    for j in range(n - 1):\n",
      "        EF[j, -1] = -idir[j][2] / norm(idir[j]) # vertical component of current segment for downward applied E field\n",
      "\n",
      "    A = zeros((n * steps + 1, n * steps + 1))\n",
      "    A[:n,:n] = identity(n)\n",
      "    A[n:n*steps, :n*(steps-1)] = identity(n * (steps - 1))\n",
      "    A[-1,-1] = 1\n",
      "    B = concatenate((identity(n), zeros((n * (steps - 1) + 1, n))))\n",
      "    return A + dt / R * B.dot(adj).dot(EF)\n",
      "\n",
      "def timeStepsNeeded(qseg, iseg, dt):\n",
      "    d = 0\n",
      "    for i in qseg:\n",
      "        for j in iseg:\n",
      "            d2 = dist(i, j)\n",
      "            if d2 > d: d = d2\n",
      "    return int(d / constants.c / dt) + 2 # previous timesteps plus current one\n",
      "\n",
      "def straightLine(n, dx):\n",
      "    qseg = concatenate((zeros((n, 1)), zeros((n, 1)), (arange(n) * dx).reshape((n, 1))), axis=1)\n",
      "    iseg = 0.5 * (qseg[:-1] + qseg[1:])\n",
      "    idir = qseg[1:] - qseg[:-1]\n",
      "    adj = (concatenate((-identity(n - 1), zeros((1, n - 1)))) + concatenate((zeros((1, n - 1)), identity(n - 1)))).astype(int)\n",
      "    return qseg, iseg, idir, adj"
     ],
     "language": "python",
     "metadata": {},
     "outputs": [],
     "prompt_number": 17
    },
    {
     "cell_type": "code",
     "collapsed": false,
     "input": [
      "n = 30\n",
      "dt = 35e-9\n",
      "dx = 5\n",
      "a = 0.003\n",
      "R = 340 * dx # resistance between adjacent charges\n",
      "E_app = 100000\n",
      "navg = 21 # number of points on current segment to average over when computing geometric factors\n",
      "\n",
      "qseg, iseg, idir, adj = straightLine(n, dx)\n",
      "steps = timeStepsNeeded(qseg, iseg, dt)\n",
      "qhist = zeros((n * steps + 1, 1))\n",
      "qhist[-1] = E_app\n",
      "M = transitionMatrix(qseg, iseg, idir, adj, dt, steps, a, navg)\n",
      "print max(abs(linalg.eigvals(M)))"
     ],
     "language": "python",
     "metadata": {},
     "outputs": [
      {
       "output_type": "stream",
       "stream": "stdout",
       "text": [
        "1.0\n"
       ]
      }
     ],
     "prompt_number": 67
    },
    {
     "cell_type": "code",
     "collapsed": false,
     "input": [
      "plot(linalg.matrix_power(M, 10000).dot(qhist)[:n])\n",
      "show()"
     ],
     "language": "python",
     "metadata": {},
     "outputs": [
      {
       "metadata": {},
       "output_type": "display_data",
       "png": "[encoded data removed]",
       "text": [
        "<matplotlib.figure.Figure at 0x9e656a0>"
       ]
      }
     ],
     "prompt_number": 68
    },
    {
     "cell_type": "code",
     "collapsed": false,
     "input": [],
     "language": "python",
     "metadata": {},
     "outputs": []
    }
   ],
   "metadata": {}
  }
 ]
}