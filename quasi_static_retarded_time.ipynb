{
 "metadata": {
  "name": "",
  "signature": "sha256:e5f5b63fe245c54c1d1f23693c574a8df3ff229091fa9c41d838f800afcf8d41"
 },
 "nbformat": 3,
 "nbformat_minor": 0,
 "worksheets": [
  {
   "cells": [
    {
     "cell_type": "code",
     "collapsed": false,
     "input": [
      "%pylab inline\n",
      "from scipy import constants, integrate"
     ],
     "language": "python",
     "metadata": {},
     "outputs": [
      {
       "output_type": "stream",
       "stream": "stdout",
       "text": [
        "Populating the interactive namespace from numpy and matplotlib\n"
       ]
      }
     ],
     "prompt_number": 2
    },
    {
     "cell_type": "code",
     "collapsed": false,
     "input": [
      "def R2integrand(qseg, iseg, idir, i, j, dx, a, t):\n",
      "    p0 = copy(qseg[i])\n",
      "    p0[0] -= 0.5 * dx\n",
      "    p1 = copy(qseg[i])\n",
      "    p1[0] += 0.5 * dx\n",
      "    r = iseg[j] - (p0*(1-t) + p1*t)\n",
      "    return idir[j].dot(transpose(r) / linalg.norm(r)) / (sum(r**2) + a**2) * dx\n",
      "\n",
      "def computeR2(qseg, iseg, idir, adj, a):\n",
      "    n = len(qseg)\n",
      "    R2 = zeros((n - 1, n))\n",
      "    for i in range(n):\n",
      "        for j in range(n - 1):\n",
      "            l = 0\n",
      "            for k in filter(lambda k: adj[i, k] != 0, range(n - 1)):\n",
      "                # integrate along current segment j\n",
      "                #     and charge segment i (subsegment from qseg[i] to iseg[k])\n",
      "                R2[j, i] += 0 # integrate something\n",
      "                l += 0 # length of subsegment\n",
      "            R2[j, i] /= (4 * pi * constants.epsilon_0 * l)\n",
      "    return R2\n",
      "\n",
      "def EFieldMatrix(qseg, iseg, idir, adj, dt, steps, a):\n",
      "    n = len(qseg)\n",
      "    M = zeros((n - 1, n * steps + 1))\n",
      "    for j in range(n - 1):\n",
      "        for i in range(n):\n",
      "            d = dist(qseg[i], iseg[j])\n",
      "            stepsback = d / constants.c / dt\n",
      "            s1 = int(stepsback)\n",
      "            w1 = s1 + 1 - stepsback\n",
      "            w2 = stepsback - s1\n",
      "            M[j, s1*n + i] = w1\n",
      "            M[j, (s1+1)*n + i] = w2\n",
      "    M[:,-1] = 1\n",
      "    R2 = computeR2(qseg, iseg, idir, adj, a)\n",
      "    return concatenate([R2 for i in range(steps)] + [zeros((n - 1, 1))], axis=1) * M\n",
      "\n",
      "def timeStepsNeeded(qseg, iseg, dt):\n",
      "    d = 0\n",
      "    for i in qseg:\n",
      "        for j in iseg:\n",
      "            d2 = dist(i, j)\n",
      "            if d2 > d: d = d2\n",
      "    return int(d / constants.c / dt) + 2 # previous timesteps plus current one\n",
      "\n",
      "def straightLine(n, dx):\n",
      "    qseg = concatenate((zeros((n, 1)), zeros((n, 1)), (arange(n) * dx).reshape((n, 1))), axis=1)\n",
      "    iseg = 0.5 * (qseg[:-1] + qseg[1:])\n",
      "    idir = qseg[1:] - qseg[:-1]\n",
      "    adj = (concatenate((-identity(n - 1), zeros((1, n - 1)))) + concatenate((zeros((1, n - 1)), identity(n - 1)))).astype(int)\n",
      "    return qseg, iseg, idir, adj"
     ],
     "language": "python",
     "metadata": {},
     "outputs": [],
     "prompt_number": 30
    },
    {
     "cell_type": "code",
     "collapsed": false,
     "input": [
      "n = 5\n",
      "dt = 10e-9\n",
      "dx = 5\n",
      "a = 0.003\n",
      "R = 10 * dx # resistance between adjacent charges\n",
      "E_app = 100000\n",
      "\n",
      "qseg, iseg, idir, adj = straightLine(n, dx)\n",
      "steps = timeStepsNeeded(qseg, iseg, dt)\n",
      "qhist = zeros((n * steps + 1, 1))\n",
      "qhist[-1] = E_app\n",
      "#M = EFieldMatrix(qseg, iseg, idir, adj, dt, steps, a)\n",
      "print adj"
     ],
     "language": "python",
     "metadata": {},
     "outputs": [
      {
       "output_type": "stream",
       "stream": "stdout",
       "text": [
        "[[-1  0  0  0]\n",
        " [ 1 -1  0  0]\n",
        " [ 0  1 -1  0]\n",
        " [ 0  0  1 -1]\n",
        " [ 0  0  0  1]]\n"
       ]
      }
     ],
     "prompt_number": 31
    },
    {
     "cell_type": "code",
     "collapsed": false,
     "input": [],
     "language": "python",
     "metadata": {},
     "outputs": []
    }
   ],
   "metadata": {}
  }
 ]
}