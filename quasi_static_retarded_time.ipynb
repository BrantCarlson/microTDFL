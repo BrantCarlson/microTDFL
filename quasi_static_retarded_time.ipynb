{
 "metadata": {
  "name": "",
  "signature": "sha256:04633e07147cc2e57df5a44b99e04cf57bf0c3a3e1bb909ad5790079bbdb6f8a"
 },
 "nbformat": 3,
 "nbformat_minor": 0,
 "worksheets": [
  {
   "cells": [
    {
     "cell_type": "code",
     "collapsed": false,
     "input": [
      "%pylab inline\n",
      "from scipy import constants, integrate"
     ],
     "language": "python",
     "metadata": {},
     "outputs": []
    },
    {
     "cell_type": "code",
     "collapsed": false,
     "input": [
      "def R2integrand(qseg, iseg, idir, i, j, dx, a, t):\n",
      "    p0 = copy(qseg[i])\n",
      "    p0[0] -= 0.5 * dx\n",
      "    p1 = copy(qseg[i])\n",
      "    p1[0] += 0.5 * dx\n",
      "    r = iseg[j] - (p0*(1-t) + p1*t)\n",
      "    return idir[j].dot(transpose(r) / linalg.norm(r)) / (sum(r**2) + a**2) * dx\n",
      "\n",
      "def computeR2(qseg, iseg, idir, a):\n",
      "    n = len(qseg)\n",
      "    R2 = zeros((n - 1, n))\n",
      "    R2b = zeros((n - 1, n))\n",
      "    for i in range(n):\n",
      "        for j in range(n - 1):\n",
      "            dx = 5 # need to figure out whether I can compute this or whether I need to pass it to computeR2\n",
      "            R2[j, i] = integrate.quad(lambda t: R2integrand(qseg, iseg, idir, i, j, dx, a, t), 0, 1)[0] / (4 * pi * constants.epsilon_0 * dx)\n",
      "    return R2\n",
      "\n",
      "def EFieldMatrix(qseg, iseg, idir, dt, steps, chanrad):\n",
      "    n = len(qseg)\n",
      "    M = zeros((n - 1, n * steps + 1))\n",
      "    for j in range(n - 1):\n",
      "        for i in range(n):\n",
      "            d = dist(qseg[i], iseg[j])\n",
      "            stepsback = d / constants.c / dt\n",
      "            a = int(stepsback)\n",
      "            w_a = a + 1 - stepsback\n",
      "            w_b = stepsback - a\n",
      "            M[j, a*n + i] = w_a\n",
      "            M[j, (a+1)*n + i] = w_b\n",
      "    M[:,-1] = 1\n",
      "    R2 = computeR2(qseg, iseg, idir, chanrad)\n",
      "    return concatenate([R2 for i in range(steps)] + [zeros((n - 1, 1))], axis=1) * M\n",
      "\n",
      "def timeStepsNeeded(qseg, iseg, dt):\n",
      "    d = 0\n",
      "    for i in qseg:\n",
      "        for j in iseg:\n",
      "            d2 = dist(i, j)\n",
      "            if d2 > d: d = d2\n",
      "    return int(d / constants.c / dt) + 2 # previous timesteps plus current one\n",
      "\n",
      "# eventually should also return a matrix of coefficients like Eq. 20 in TDFL math paper\n",
      "def straightLine(n, dx):\n",
      "    qseg = concatenate(((arange(n) * dx).reshape((n, 1)), zeros((n, 1)), zeros((n, 1))), axis=1)\n",
      "    iseg = 0.5 * (qseg[:-1] + qseg[1:])\n",
      "    idir = (qseg[1:] - qseg[:-1]) / dx\n",
      "    return qseg, iseg, idir"
     ],
     "language": "python",
     "metadata": {},
     "outputs": [],
     "prompt_number": 237
    },
    {
     "cell_type": "code",
     "collapsed": false,
     "input": [
      "n = 5\n",
      "dt = 10e-9\n",
      "dx = 5\n",
      "a = 0.003\n",
      "R = 10 * dx # resistance between adjacent charges\n",
      "E_app = 100000\n",
      "\n",
      "qseg, iseg, idir = straightLine(n, dx)\n",
      "steps = timeStepsNeeded(qseg, iseg, dt)\n",
      "qhist = zeros((n * steps + 1, 1))\n",
      "qhist[-1] = E_app\n",
      "M = EFieldMatrix(qseg, iseg, idir, dt, steps, a)\n",
      "print \"Completed.\""
     ],
     "language": "python",
     "metadata": {},
     "outputs": [
      {
       "output_type": "stream",
       "stream": "stdout",
       "text": [
        "Completed.\n"
       ]
      }
     ],
     "prompt_number": 248
    },
    {
     "cell_type": "code",
     "collapsed": false,
     "input": [],
     "language": "python",
     "metadata": {},
     "outputs": []
    }
   ],
   "metadata": {}
  }
 ]
}