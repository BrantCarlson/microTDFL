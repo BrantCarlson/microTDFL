{
 "metadata": {
  "name": "",
  "signature": "sha256:dd3e7d62d55584d421aca1db9ce141eb47bc252d342b6d5f1f41f8cd4123b0b8"
 },
 "nbformat": 3,
 "nbformat_minor": 0,
 "worksheets": [
  {
   "cells": [
    {
     "cell_type": "code",
     "collapsed": false,
     "input": [
      "%pylab inline"
     ],
     "language": "python",
     "metadata": {},
     "outputs": [
      {
       "output_type": "stream",
       "stream": "stdout",
       "text": [
        "Populating the interactive namespace from numpy and matplotlib\n"
       ]
      }
     ],
     "prompt_number": 25
    },
    {
     "cell_type": "code",
     "collapsed": false,
     "input": [
      "def potential(x, y):\n",
      "    if x == y: return 3 / (2 * r)\n",
      "    return 1.0 / dist(pos[x], pos[y])\n",
      "\n",
      "# Try to write functions so the only things the function needs are arguments\n",
      "# i.e. right now this one needs N, R, and adj...\n",
      "def simulationMatrix():\n",
      "    D = zeros((N, N))\n",
      "    for i in range(N):\n",
      "        for j in range(N):\n",
      "            D[i, j] = potential(i, j)\n",
      "    A = adj - diag(ones((1, N)).dot(adj)[0])\n",
      "    return identity(N) + dt / R * A.dot(D)\n",
      "\n",
      "def simulate(q, steps):\n",
      "    q = linalg.matrix_power(simulationMatrix(), steps).dot(q)\n",
      "    plot(q, 'r')\n",
      "    xlabel('Position')\n",
      "    ylabel('Charge')\n",
      "    title(\"Charge\")\n",
      "    show()\n",
      "    return q"
     ],
     "language": "python",
     "metadata": {},
     "outputs": [],
     "prompt_number": 26
    },
    {
     "cell_type": "code",
     "collapsed": false,
     "input": [
      "N = 500\n",
      "Q = 1.0\n",
      "r = 0.5 # radius of charge\n",
      "R = 10 # resistance between adjacent charges\n",
      "steps = 1000\n",
      "dt = 1.0\n",
      "\n",
      "pos = concatenate((arange(N).reshape((N, 1)), zeros((N, 1)), zeros((N, 1))), axis=1)   # <\n",
      "adj = concatenate((zeros((N - 1, 1)), identity(N - 1)), axis=1)                        #     straight\n",
      "adj = concatenate((adj, zeros((1, N))))                                                #       line\n",
      "adj += transpose(adj)                                                                  #                >\n",
      "\n",
      "# q = ones(N) * Q / N # uniform charge distribution\n",
      "\n",
      "q = arange(N) * Q / (N * (N - 1) / 2) # charge proportional to position\n",
      "# ah, n*(n-1)/2...  takes me back.  if you're lazy, keep in mind that\n",
      "# operations like sum(q) take nearly exactly zero time, so...\n",
      "# q = arange(N); q = q*Q/sum(q)\n",
      "# or maybe just q = Q/2*linspace(0,1,N)...  but whatever.\n",
      "\n",
      "# q = sin(arange(N) / 5.0)\n",
      "# q = q * Q / sum(q) \n",
      "\n",
      "q = simulate(q, steps)\n",
      "M = simulationMatrix()\n",
      "print max(abs(linalg.eigvals(M)))"
     ],
     "language": "python",
     "metadata": {},
     "outputs": [
      {
       "metadata": {},
       "output_type": "display_data",
       "png": "[encoded data removed]",
       "text": [
        "<matplotlib.figure.Figure at 0x9dfa128>"
       ]
      },
      {
       "output_type": "stream",
       "stream": "stdout",
       "text": [
        "1.0\n"
       ]
      }
     ],
     "prompt_number": 27
    },
    {
     "cell_type": "code",
     "collapsed": false,
     "input": [
      "# how about some images?\n",
      "N = 500\n",
      "Q = 1.0\n",
      "r = 0.5\n",
      "R = 5\n",
      "steps = 3000\n",
      "dt = 1.0\n",
      "\n",
      "pos = np.concatenate((arange(N).reshape((N, 1)), zeros((N, 1)), zeros((N, 1))), axis=1)   # <\n",
      "adj = concatenate((zeros((N - 1, 1)), identity(N - 1)), axis=1)                        #     straight\n",
      "adj = concatenate((adj, zeros((1, N))))                                                #       line\n",
      "adj += transpose(adj)                                                                  #                >\n",
      "\n",
      "im = zeros((steps,N))\n",
      "im[0,:] = sin(linspace(0,4*pi,N)) # \n",
      "a = simulationMatrix()\n",
      "for i in xrange(1,steps):\n",
      "    im[i,:] = a.dot(im[i-1,:])\n",
      "\n",
      "print max(abs(linalg.eigvals(M)))\n",
      "    \n",
      "imshow(im)\n",
      "colorbar()\n",
      "ylabel(\"timestep\")\n",
      "xlabel(\"position\")"
     ],
     "language": "python",
     "metadata": {},
     "outputs": [
      {
       "output_type": "stream",
       "stream": "stdout",
       "text": [
        "1.0\n"
       ]
      },
      {
       "metadata": {},
       "output_type": "pyout",
       "prompt_number": 29,
       "text": [
        "<matplotlib.text.Text at 0xa165908>"
       ]
      },
      {
       "metadata": {},
       "output_type": "display_data",
       "png": "[encoded data removed]",
       "text": [
        "<matplotlib.figure.Figure at 0x9dfd208>"
       ]
      }
     ],
     "prompt_number": 29
    },
    {
     "cell_type": "code",
     "collapsed": false,
     "input": [
      "print max(abs(linalg.eigvals(a)))\n",
      "# What do the eigenvectors of the ==1 eigenvalues look like?"
     ],
     "language": "python",
     "metadata": {},
     "outputs": [
      {
       "output_type": "stream",
       "stream": "stdout",
       "text": [
        "1.0\n"
       ]
      }
     ],
     "prompt_number": 46
    }
   ],
   "metadata": {}
  }
 ]
}