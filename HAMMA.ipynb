{
 "metadata": {
  "name": "",
  "signature": "sha256:78d086308c70b6373cf297d68c477ad953f97fcd3b13effaccc11364839d9490"
 },
 "nbformat": 3,
 "nbformat_minor": 0,
 "worksheets": [
  {
   "cells": [
    {
     "cell_type": "code",
     "collapsed": false,
     "input": [
      "%pylab\n",
      "from scipy import constants, integrate\n",
      "from scipy.io import netcdf"
     ],
     "language": "python",
     "metadata": {},
     "outputs": [
      {
       "output_type": "stream",
       "stream": "stdout",
       "text": [
        "Using matplotlib backend: Qt4Agg\n",
        "Populating the interactive namespace from numpy and matplotlib\n"
       ]
      }
     ],
     "prompt_number": 1
    },
    {
     "cell_type": "code",
     "collapsed": false,
     "input": [
      "ncf = netcdf.netcdf_file('HAMMA_data_20101026T190459.nc', 'r')\n",
      "data = ncf.variables['data5']\n",
      "n = data.shape[1]\n",
      "x = [data[0, i] - 6.86995e4 for i in range(n)]\n",
      "y = [data[1, i] for i in range(n)]\n",
      "plot(x, y)\n",
      "ncf.close()"
     ],
     "language": "python",
     "metadata": {},
     "outputs": [],
     "prompt_number": 2
    },
    {
     "cell_type": "code",
     "collapsed": false,
     "input": [
      "for i in ncf.variables: print i"
     ],
     "language": "python",
     "metadata": {},
     "outputs": [
      {
       "output_type": "stream",
       "stream": "stdout",
       "text": [
        "sensor_positions\n",
        "lma\n",
        "data5\n",
        "data4\n",
        "hamma\n",
        "data1\n",
        "data0\n",
        "data3\n",
        "data2\n"
       ]
      }
     ],
     "prompt_number": 3
    }
   ],
   "metadata": {}
  }
 ]
}