{
 "metadata": {
  "name": "",
  "signature": "sha256:aa39c55510688403db154f406d795692425dec8160858da2802c349042daca06"
 },
 "nbformat": 3,
 "nbformat_minor": 0,
 "worksheets": [
  {
   "cells": [
    {
     "cell_type": "code",
     "collapsed": false,
     "input": [
      "%pylab\n",
      "from microTDFL import *"
     ],
     "language": "python",
     "metadata": {},
     "outputs": [
      {
       "output_type": "stream",
       "stream": "stdout",
       "text": [
        "Using matplotlib backend: Qt4Agg\n",
        "Populating the interactive namespace from numpy and matplotlib\n"
       ]
      }
     ],
     "prompt_number": 1
    },
    {
     "cell_type": "code",
     "collapsed": false,
     "input": [
      "def findBestFit(z, q, a, b):\n",
      "    SS = linspace(a, b, 100)\n",
      "    for i in range(len(SS)):\n",
      "        l = SS[i]\n",
      "        p = 1 - 1 / l * log(1 - z ** 2) + 1 / l ** 2 * (log(1 - z ** 2) ** 2 + 0.5 * log((1 + z)/(1 - z)) ** 2 - pi ** 2 / 6)\n",
      "        p /= amin(p)\n",
      "        SS[i] = sum((q - p) ** 2)\n",
      "    plot(linspace(a, b, 100), SS)"
     ],
     "language": "python",
     "metadata": {},
     "outputs": [],
     "prompt_number": 2
    },
    {
     "cell_type": "code",
     "collapsed": false,
     "input": [
      "n = 50 # number of charge segments (one greater than number of current segments)\n",
      "dx = 5\n",
      "dt = 35e-9\n",
      "a = 0.003\n",
      "R = 5 * dx # resistance between adjacent charges\n",
      "E_app = 100000\n",
      "navg = 501\n",
      "\n",
      "m = timeStepsNeeded(n, dx, dt)\n",
      "R2 = computeR2FLCS(n, dx, a, navg)\n",
      "R1L = computeR1LFLCS(n, dx, a, navg)\n",
      "R1T = computeR1T(n, dx, a, navg)\n",
      "#G = getTransitionMatrix(n, m, dx, dt, E_app, R, R2, R1L, R1T)\n",
      "G = getTwoStageMatrix(n, m, dx, dt, E_app, R, R2, R1L, R1T)"
     ],
     "language": "python",
     "metadata": {},
     "outputs": [],
     "prompt_number": 6
    },
    {
     "cell_type": "code",
     "collapsed": false,
     "input": [
      "steps = 1000\n",
      "h = zeros((m * (n - 1) + n + 1, 1))\n",
      "h[-25, 0] = 1\n",
      "h = linalg.matrix_power(G, steps).dot(h)"
     ],
     "language": "python",
     "metadata": {},
     "outputs": [],
     "prompt_number": 12
    },
    {
     "cell_type": "code",
     "collapsed": false,
     "input": [
      "q = h[m*(n-1):-1,0]\n",
      "q /= amin(q)\n",
      "z = 2.0 * (arange(n) + 0.5) / n - 1\n",
      "l = 2 * log(n * dx / a)\n",
      "l = 24.01\n",
      "p = 1 - 1 / l * log(1 - z ** 2) + 1 / l ** 2 * (log(1 - z ** 2) ** 2 + 0.5 * log((1 + z)/(1 - z)) ** 2 - pi ** 2 / 6)\n",
      "p /= amin(p)\n",
      "\n",
      "title(\"Comparing TDFL results to Vainshtein's equation\")\n",
      "xlabel(\"z/c\")\n",
      "ylabel(\"Relative linear charge density\")\n",
      "plot(z, q)\n",
      "plot(z, p)\n",
      "show()"
     ],
     "language": "python",
     "metadata": {},
     "outputs": [],
     "prompt_number": 25
    },
    {
     "cell_type": "code",
     "collapsed": false,
     "input": [
      "findBestFit(z, q, 24.009, 24.011)"
     ],
     "language": "python",
     "metadata": {},
     "outputs": [],
     "prompt_number": 24
    }
   ],
   "metadata": {}
  }
 ]
}