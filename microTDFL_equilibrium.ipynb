{
 "metadata": {
  "name": "",
  "signature": "sha256:f159fe308ec7aac4a9caeacc6b178384e0c5b0cb3bb682160024d981fdca0616"
 },
 "nbformat": 3,
 "nbformat_minor": 0,
 "worksheets": [
  {
   "cells": [
    {
     "cell_type": "code",
     "collapsed": false,
     "input": [
      "%pylab\n",
      "from microTDFL import *"
     ],
     "language": "python",
     "metadata": {},
     "outputs": [
      {
       "output_type": "stream",
       "stream": "stdout",
       "text": [
        "Using matplotlib backend: Qt4Agg\n",
        "Populating the interactive namespace from numpy and matplotlib\n"
       ]
      }
     ],
     "prompt_number": 32
    },
    {
     "cell_type": "code",
     "collapsed": false,
     "input": [
      "def findBestFit(z, q, a, b):\n",
      "    SS = linspace(a, b, 100)\n",
      "    for i in range(len(SS)):\n",
      "        l = SS[i]\n",
      "        p = 1 - 1 / l * log(1 - z ** 2) + 1 / l ** 2 * (log(1 - z ** 2) ** 2 + 0.5 * log((1 + z)/(1 - z)) ** 2 - pi ** 2 / 6)\n",
      "        p /= amin(p)\n",
      "        SS[i] = sum((q - p) ** 2)\n",
      "    plot(linspace(a, b, 100), SS)"
     ],
     "language": "python",
     "metadata": {},
     "outputs": [],
     "prompt_number": 13
    },
    {
     "cell_type": "code",
     "collapsed": false,
     "input": [
      "n = 60 # number of charge segments (one greater than number of current segments)\n",
      "dx = 5\n",
      "dt = 35e-9\n",
      "a = 0.003\n",
      "R = 5 * dx # resistance between adjacent charges\n",
      "E_app = 100000\n",
      "navg = 501\n",
      "\n",
      "m = timeStepsNeeded(n, dx, dt)\n",
      "R2 = computeR2FLCS(n, dx, a, navg)\n",
      "R1L = computeR1LFLCS(n, dx, a, navg)\n",
      "R1T = computeR1T(n, dx, a, navg)\n",
      "#G = getTransitionMatrix(n, m, dx, dt, E_app, R, R2, R1L, R1T)\n",
      "G = getTwoStageMatrix(n, m, dx, dt, E_app, R, R2, R1L, R1T)"
     ],
     "language": "python",
     "metadata": {},
     "outputs": [],
     "prompt_number": 3
    },
    {
     "cell_type": "code",
     "collapsed": false,
     "input": [
      "steps = 1000\n",
      "h = zeros((m * (n - 1) + n + 1, 1))\n",
      "h[-25, 0] = 1\n",
      "h = linalg.matrix_power(G, steps).dot(h)"
     ],
     "language": "python",
     "metadata": {},
     "outputs": [],
     "prompt_number": 4
    },
    {
     "cell_type": "code",
     "collapsed": false,
     "input": [
      "q = h[m*(n-1)+1:-2,0]\n",
      "q /= amin(q)\n",
      "z = 2.0 * arange(1, n - 1) / (n - 1) - 1\n",
      "l = 27.6\n",
      "p = 1 - 1 / l * log(1 - z ** 2) + 1 / l ** 2 * (log(1 - z ** 2) ** 2 + 0.5 * log((1 + z)/(1 - z)) ** 2 - pi ** 2 / 6)\n",
      "p /= amin(p)\n",
      "\n",
      "title(\"Comparing TDFL results to Vainshtein's equation\")\n",
      "xlabel(\"z/c\")\n",
      "ylabel(\"Relative linear charge density\")\n",
      "plot(z, q)\n",
      "plot(z, p)\n",
      "show()"
     ],
     "language": "python",
     "metadata": {},
     "outputs": [],
     "prompt_number": 52
    },
    {
     "cell_type": "code",
     "collapsed": false,
     "input": [
      "findBestFit(z, q, 20, 30)"
     ],
     "language": "python",
     "metadata": {},
     "outputs": [],
     "prompt_number": 45
    }
   ],
   "metadata": {}
  }
 ]
}